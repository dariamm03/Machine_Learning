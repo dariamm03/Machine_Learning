{
  "nbformat": 4,
  "nbformat_minor": 0,
  "metadata": {
    "colab": {
      "provenance": [],
      "authorship_tag": "ABX9TyMIcDUdae+uenS9wjI3Mhue",
      "include_colab_link": true
    },
    "kernelspec": {
      "name": "python3",
      "display_name": "Python 3"
    },
    "language_info": {
      "name": "python"
    }
  },
  "cells": [
    {
      "cell_type": "markdown",
      "metadata": {
        "id": "view-in-github",
        "colab_type": "text"
      },
      "source": [
        "<a href=\"https://colab.research.google.com/github/dariamm03/Machine_Learning/blob/main/MachineLearning11.ipynb\" target=\"_parent\"><img src=\"https://colab.research.google.com/assets/colab-badge.svg\" alt=\"Open In Colab\"/></a>"
      ]
    },
    {
      "cell_type": "markdown",
      "source": [
        "Задание:\n",
        "Необходимо обучить модель для определения принадлежности текста к одному из заданных классов с использованием Bag of words.\n",
        "Например, построить модель для определения принадлежности текста определенному автору по части текста.\n"
      ],
      "metadata": {
        "id": "JsY-vh5B6lVb"
      }
    },
    {
      "cell_type": "code",
      "execution_count": null,
      "metadata": {
        "id": "DRV8rgxpedO2"
      },
      "outputs": [],
      "source": [
        "import pandas as pd\n",
        "from sklearn.feature_extraction.text import CountVectorizer\n",
        "from sklearn.linear_model import LogisticRegression\n",
        "from sklearn.metrics import precision_score\n",
        "from sklearn.metrics import recall_score\n",
        "from sklearn.metrics import f1_score"
      ]
    },
    {
      "cell_type": "markdown",
      "source": [
        "Bag of Words — это модель, часто используемая при обработке текстов, представляющая собой неупорядоченный набор слов, входящих в обрабатываемый текст"
      ],
      "metadata": {
        "id": "npv9DGzXbPWM"
      }
    },
    {
      "cell_type": "code",
      "source": [
        "data = pd.read_csv('DataSet13_1.csv', sep=',')\n",
        "data"
      ],
      "metadata": {
        "colab": {
          "base_uri": "https://localhost:8080/",
          "height": 423
        },
        "id": "B-ZApXMluBMr",
        "outputId": "768ccfe4-ebb7-405a-8be1-723cd106349d"
      },
      "execution_count": null,
      "outputs": [
        {
          "output_type": "execute_result",
          "data": {
            "text/plain": [
              "        id                                               text      author\n",
              "0        0  -Бабушка!- вскричала малютка.- Возьми меня с с...  Dostoevsky\n",
              "1        1  Знал ли Скрудж об этом? Разумеется, знал. Да и...  Dostoevsky\n",
              "2        2  -С праздником, дядя, с радостью! Дай вам Бог в...  Dostoevsky\n",
              "3        3  Мы высказали только главную передовую мысль на...  Dostoevsky\n",
              "4        4  I. Отдел литературный. Повести, романы, расска...  Dostoevsky\n",
              "...    ...                                                ...         ...\n",
              "1729  1729  -Хотелось бы мне, чтоб он был здесь.\\nКанторек...      Remark\n",
              "1730  1730  Но для нас в этом-то и заключается их несостоя...      Remark\n",
              "1731  1731  -Как дела, Франц?- спрашивает Кропп.\\nКеммерих...      Remark\n",
              "1732  1732  Мюллер наклоняется:\\n-Мы принесли твои вещи, Ф...      Remark\n",
              "1733  1733  -Каюк,- подытоживает Мюллер.\\nМы идем обратно ...      Remark\n",
              "\n",
              "[1734 rows x 3 columns]"
            ],
            "text/html": [
              "\n",
              "  <div id=\"df-16cbb3dc-6fb3-487a-9f6a-a8947ded4515\" class=\"colab-df-container\">\n",
              "    <div>\n",
              "<style scoped>\n",
              "    .dataframe tbody tr th:only-of-type {\n",
              "        vertical-align: middle;\n",
              "    }\n",
              "\n",
              "    .dataframe tbody tr th {\n",
              "        vertical-align: top;\n",
              "    }\n",
              "\n",
              "    .dataframe thead th {\n",
              "        text-align: right;\n",
              "    }\n",
              "</style>\n",
              "<table border=\"1\" class=\"dataframe\">\n",
              "  <thead>\n",
              "    <tr style=\"text-align: right;\">\n",
              "      <th></th>\n",
              "      <th>id</th>\n",
              "      <th>text</th>\n",
              "      <th>author</th>\n",
              "    </tr>\n",
              "  </thead>\n",
              "  <tbody>\n",
              "    <tr>\n",
              "      <th>0</th>\n",
              "      <td>0</td>\n",
              "      <td>-Бабушка!- вскричала малютка.- Возьми меня с с...</td>\n",
              "      <td>Dostoevsky</td>\n",
              "    </tr>\n",
              "    <tr>\n",
              "      <th>1</th>\n",
              "      <td>1</td>\n",
              "      <td>Знал ли Скрудж об этом? Разумеется, знал. Да и...</td>\n",
              "      <td>Dostoevsky</td>\n",
              "    </tr>\n",
              "    <tr>\n",
              "      <th>2</th>\n",
              "      <td>2</td>\n",
              "      <td>-С праздником, дядя, с радостью! Дай вам Бог в...</td>\n",
              "      <td>Dostoevsky</td>\n",
              "    </tr>\n",
              "    <tr>\n",
              "      <th>3</th>\n",
              "      <td>3</td>\n",
              "      <td>Мы высказали только главную передовую мысль на...</td>\n",
              "      <td>Dostoevsky</td>\n",
              "    </tr>\n",
              "    <tr>\n",
              "      <th>4</th>\n",
              "      <td>4</td>\n",
              "      <td>I. Отдел литературный. Повести, романы, расска...</td>\n",
              "      <td>Dostoevsky</td>\n",
              "    </tr>\n",
              "    <tr>\n",
              "      <th>...</th>\n",
              "      <td>...</td>\n",
              "      <td>...</td>\n",
              "      <td>...</td>\n",
              "    </tr>\n",
              "    <tr>\n",
              "      <th>1729</th>\n",
              "      <td>1729</td>\n",
              "      <td>-Хотелось бы мне, чтоб он был здесь.\\nКанторек...</td>\n",
              "      <td>Remark</td>\n",
              "    </tr>\n",
              "    <tr>\n",
              "      <th>1730</th>\n",
              "      <td>1730</td>\n",
              "      <td>Но для нас в этом-то и заключается их несостоя...</td>\n",
              "      <td>Remark</td>\n",
              "    </tr>\n",
              "    <tr>\n",
              "      <th>1731</th>\n",
              "      <td>1731</td>\n",
              "      <td>-Как дела, Франц?- спрашивает Кропп.\\nКеммерих...</td>\n",
              "      <td>Remark</td>\n",
              "    </tr>\n",
              "    <tr>\n",
              "      <th>1732</th>\n",
              "      <td>1732</td>\n",
              "      <td>Мюллер наклоняется:\\n-Мы принесли твои вещи, Ф...</td>\n",
              "      <td>Remark</td>\n",
              "    </tr>\n",
              "    <tr>\n",
              "      <th>1733</th>\n",
              "      <td>1733</td>\n",
              "      <td>-Каюк,- подытоживает Мюллер.\\nМы идем обратно ...</td>\n",
              "      <td>Remark</td>\n",
              "    </tr>\n",
              "  </tbody>\n",
              "</table>\n",
              "<p>1734 rows × 3 columns</p>\n",
              "</div>\n",
              "    <div class=\"colab-df-buttons\">\n",
              "\n",
              "  <div class=\"colab-df-container\">\n",
              "    <button class=\"colab-df-convert\" onclick=\"convertToInteractive('df-16cbb3dc-6fb3-487a-9f6a-a8947ded4515')\"\n",
              "            title=\"Convert this dataframe to an interactive table.\"\n",
              "            style=\"display:none;\">\n",
              "\n",
              "  <svg xmlns=\"http://www.w3.org/2000/svg\" height=\"24px\" viewBox=\"0 -960 960 960\">\n",
              "    <path d=\"M120-120v-720h720v720H120Zm60-500h600v-160H180v160Zm220 220h160v-160H400v160Zm0 220h160v-160H400v160ZM180-400h160v-160H180v160Zm440 0h160v-160H620v160ZM180-180h160v-160H180v160Zm440 0h160v-160H620v160Z\"/>\n",
              "  </svg>\n",
              "    </button>\n",
              "\n",
              "  <style>\n",
              "    .colab-df-container {\n",
              "      display:flex;\n",
              "      gap: 12px;\n",
              "    }\n",
              "\n",
              "    .colab-df-convert {\n",
              "      background-color: #E8F0FE;\n",
              "      border: none;\n",
              "      border-radius: 50%;\n",
              "      cursor: pointer;\n",
              "      display: none;\n",
              "      fill: #1967D2;\n",
              "      height: 32px;\n",
              "      padding: 0 0 0 0;\n",
              "      width: 32px;\n",
              "    }\n",
              "\n",
              "    .colab-df-convert:hover {\n",
              "      background-color: #E2EBFA;\n",
              "      box-shadow: 0px 1px 2px rgba(60, 64, 67, 0.3), 0px 1px 3px 1px rgba(60, 64, 67, 0.15);\n",
              "      fill: #174EA6;\n",
              "    }\n",
              "\n",
              "    .colab-df-buttons div {\n",
              "      margin-bottom: 4px;\n",
              "    }\n",
              "\n",
              "    [theme=dark] .colab-df-convert {\n",
              "      background-color: #3B4455;\n",
              "      fill: #D2E3FC;\n",
              "    }\n",
              "\n",
              "    [theme=dark] .colab-df-convert:hover {\n",
              "      background-color: #434B5C;\n",
              "      box-shadow: 0px 1px 3px 1px rgba(0, 0, 0, 0.15);\n",
              "      filter: drop-shadow(0px 1px 2px rgba(0, 0, 0, 0.3));\n",
              "      fill: #FFFFFF;\n",
              "    }\n",
              "  </style>\n",
              "\n",
              "    <script>\n",
              "      const buttonEl =\n",
              "        document.querySelector('#df-16cbb3dc-6fb3-487a-9f6a-a8947ded4515 button.colab-df-convert');\n",
              "      buttonEl.style.display =\n",
              "        google.colab.kernel.accessAllowed ? 'block' : 'none';\n",
              "\n",
              "      async function convertToInteractive(key) {\n",
              "        const element = document.querySelector('#df-16cbb3dc-6fb3-487a-9f6a-a8947ded4515');\n",
              "        const dataTable =\n",
              "          await google.colab.kernel.invokeFunction('convertToInteractive',\n",
              "                                                    [key], {});\n",
              "        if (!dataTable) return;\n",
              "\n",
              "        const docLinkHtml = 'Like what you see? Visit the ' +\n",
              "          '<a target=\"_blank\" href=https://colab.research.google.com/notebooks/data_table.ipynb>data table notebook</a>'\n",
              "          + ' to learn more about interactive tables.';\n",
              "        element.innerHTML = '';\n",
              "        dataTable['output_type'] = 'display_data';\n",
              "        await google.colab.output.renderOutput(dataTable, element);\n",
              "        const docLink = document.createElement('div');\n",
              "        docLink.innerHTML = docLinkHtml;\n",
              "        element.appendChild(docLink);\n",
              "      }\n",
              "    </script>\n",
              "  </div>\n",
              "\n",
              "\n",
              "<div id=\"df-111493cc-7564-491f-ace5-0b458aa15718\">\n",
              "  <button class=\"colab-df-quickchart\" onclick=\"quickchart('df-111493cc-7564-491f-ace5-0b458aa15718')\"\n",
              "            title=\"Suggest charts\"\n",
              "            style=\"display:none;\">\n",
              "\n",
              "<svg xmlns=\"http://www.w3.org/2000/svg\" height=\"24px\"viewBox=\"0 0 24 24\"\n",
              "     width=\"24px\">\n",
              "    <g>\n",
              "        <path d=\"M19 3H5c-1.1 0-2 .9-2 2v14c0 1.1.9 2 2 2h14c1.1 0 2-.9 2-2V5c0-1.1-.9-2-2-2zM9 17H7v-7h2v7zm4 0h-2V7h2v10zm4 0h-2v-4h2v4z\"/>\n",
              "    </g>\n",
              "</svg>\n",
              "  </button>\n",
              "\n",
              "<style>\n",
              "  .colab-df-quickchart {\n",
              "      --bg-color: #E8F0FE;\n",
              "      --fill-color: #1967D2;\n",
              "      --hover-bg-color: #E2EBFA;\n",
              "      --hover-fill-color: #174EA6;\n",
              "      --disabled-fill-color: #AAA;\n",
              "      --disabled-bg-color: #DDD;\n",
              "  }\n",
              "\n",
              "  [theme=dark] .colab-df-quickchart {\n",
              "      --bg-color: #3B4455;\n",
              "      --fill-color: #D2E3FC;\n",
              "      --hover-bg-color: #434B5C;\n",
              "      --hover-fill-color: #FFFFFF;\n",
              "      --disabled-bg-color: #3B4455;\n",
              "      --disabled-fill-color: #666;\n",
              "  }\n",
              "\n",
              "  .colab-df-quickchart {\n",
              "    background-color: var(--bg-color);\n",
              "    border: none;\n",
              "    border-radius: 50%;\n",
              "    cursor: pointer;\n",
              "    display: none;\n",
              "    fill: var(--fill-color);\n",
              "    height: 32px;\n",
              "    padding: 0;\n",
              "    width: 32px;\n",
              "  }\n",
              "\n",
              "  .colab-df-quickchart:hover {\n",
              "    background-color: var(--hover-bg-color);\n",
              "    box-shadow: 0 1px 2px rgba(60, 64, 67, 0.3), 0 1px 3px 1px rgba(60, 64, 67, 0.15);\n",
              "    fill: var(--button-hover-fill-color);\n",
              "  }\n",
              "\n",
              "  .colab-df-quickchart-complete:disabled,\n",
              "  .colab-df-quickchart-complete:disabled:hover {\n",
              "    background-color: var(--disabled-bg-color);\n",
              "    fill: var(--disabled-fill-color);\n",
              "    box-shadow: none;\n",
              "  }\n",
              "\n",
              "  .colab-df-spinner {\n",
              "    border: 2px solid var(--fill-color);\n",
              "    border-color: transparent;\n",
              "    border-bottom-color: var(--fill-color);\n",
              "    animation:\n",
              "      spin 1s steps(1) infinite;\n",
              "  }\n",
              "\n",
              "  @keyframes spin {\n",
              "    0% {\n",
              "      border-color: transparent;\n",
              "      border-bottom-color: var(--fill-color);\n",
              "      border-left-color: var(--fill-color);\n",
              "    }\n",
              "    20% {\n",
              "      border-color: transparent;\n",
              "      border-left-color: var(--fill-color);\n",
              "      border-top-color: var(--fill-color);\n",
              "    }\n",
              "    30% {\n",
              "      border-color: transparent;\n",
              "      border-left-color: var(--fill-color);\n",
              "      border-top-color: var(--fill-color);\n",
              "      border-right-color: var(--fill-color);\n",
              "    }\n",
              "    40% {\n",
              "      border-color: transparent;\n",
              "      border-right-color: var(--fill-color);\n",
              "      border-top-color: var(--fill-color);\n",
              "    }\n",
              "    60% {\n",
              "      border-color: transparent;\n",
              "      border-right-color: var(--fill-color);\n",
              "    }\n",
              "    80% {\n",
              "      border-color: transparent;\n",
              "      border-right-color: var(--fill-color);\n",
              "      border-bottom-color: var(--fill-color);\n",
              "    }\n",
              "    90% {\n",
              "      border-color: transparent;\n",
              "      border-bottom-color: var(--fill-color);\n",
              "    }\n",
              "  }\n",
              "</style>\n",
              "\n",
              "  <script>\n",
              "    async function quickchart(key) {\n",
              "      const quickchartButtonEl =\n",
              "        document.querySelector('#' + key + ' button');\n",
              "      quickchartButtonEl.disabled = true;  // To prevent multiple clicks.\n",
              "      quickchartButtonEl.classList.add('colab-df-spinner');\n",
              "      try {\n",
              "        const charts = await google.colab.kernel.invokeFunction(\n",
              "            'suggestCharts', [key], {});\n",
              "      } catch (error) {\n",
              "        console.error('Error during call to suggestCharts:', error);\n",
              "      }\n",
              "      quickchartButtonEl.classList.remove('colab-df-spinner');\n",
              "      quickchartButtonEl.classList.add('colab-df-quickchart-complete');\n",
              "    }\n",
              "    (() => {\n",
              "      let quickchartButtonEl =\n",
              "        document.querySelector('#df-111493cc-7564-491f-ace5-0b458aa15718 button');\n",
              "      quickchartButtonEl.style.display =\n",
              "        google.colab.kernel.accessAllowed ? 'block' : 'none';\n",
              "    })();\n",
              "  </script>\n",
              "</div>\n",
              "    </div>\n",
              "  </div>\n"
            ],
            "application/vnd.google.colaboratory.intrinsic+json": {
              "type": "dataframe",
              "variable_name": "data",
              "summary": "{\n  \"name\": \"data\",\n  \"rows\": 1734,\n  \"fields\": [\n    {\n      \"column\": \"id\",\n      \"properties\": {\n        \"dtype\": \"number\",\n        \"std\": 500,\n        \"min\": 0,\n        \"max\": 1733,\n        \"num_unique_values\": 1734,\n        \"samples\": [\n          522,\n          135,\n          727\n        ],\n        \"semantic_type\": \"\",\n        \"description\": \"\"\n      }\n    },\n    {\n      \"column\": \"text\",\n      \"properties\": {\n        \"dtype\": \"string\",\n        \"num_unique_values\": 1644,\n        \"samples\": [\n          \"\\u041c\\u0438\\u0440\\u043e\\u0441\\u043b\\u0430\\u0432, \\u0431\\u0440\\u0438\\u0442\\u044b\\u0439, \\u043f\\u043b\\u0435\\u0447\\u0438\\u0441\\u0442\\u044b\\u0439, \\u043d\\u043e \\u043d\\u0435 \\u0437\\u0430\\u0440\\u0430\\u0431\\u043e\\u0442\\u0430\\u0432\\u0448\\u0438\\u0439 \\u0435\\u0449\\u0435 \\u0437\\u043e\\u043b\\u043e\\u0442\\u043e\\u0439 \\u0446\\u0435\\u043f\\u0438, \\u043f\\u043e\\u0448\\u0435\\u043b \\u043f\\u043e\\u043c\\u043e\\u0433\\u0430\\u0442\\u044c. \\u041e\\u043d\\u0438 \\u0432\\u0434\\u0432\\u043e\\u0435\\u043c \\u0437\\u0430\\u043d\\u0435\\u0441\\u043b\\u0438 \\u0441\\u043d\\u0430\\u0447\\u0430\\u043b\\u0430 \\u0434\\u0435\\u0441\\u044f\\u0442\\u0438\\u043b\\u0438\\u0442\\u0440\\u043e\\u0432\\u044b\\u0439 \\u0431\\u0438\\u0434\\u043e\\u043d \\u0441 \\u043c\\u043e\\u0442\\u044b\\u043b\\u0435\\u043c, \\u0430 \\u043f\\u043e\\u0442\\u043e\\u043c \\u0431\\u043e\\u043b\\u044c\\u0448\\u043e\\u0439 \\u044f\\u0449\\u0438\\u043a, \\u0432 \\u0449\\u0435\\u043b\\u044f\\u0445 \\u043c\\u0435\\u0436\\u0434\\u0443 \\u0434\\u043e\\u0441\\u043e\\u043a \\u043a\\u043e\\u0442\\u043e\\u0440\\u043e\\u0433\\u043e \\u0432\\u044b\\u0440\\u0438\\u0441\\u043e\\u0432\\u044b\\u0432\\u0430\\u043b\\u0438\\u0441\\u044c \\u0441\\u0442\\u0440\\u0443\\u0436\\u043a\\u0438 \\u0438 \\u043f\\u043e\\u0431\\u043b\\u0435\\u0441\\u043a\\u0438\\u0432\\u0430\\u043b\\u043e \\u0441\\u0442\\u0435\\u043a\\u043b\\u043e. \\u042f\\u0449\\u0438\\u043a \\u0431\\u044b\\u043b \\u0442\\u044f\\u0436\\u0435\\u043b. \\u041d\\u0430 \\u043d\\u0435\\u043c \\u0431\\u044b\\u043b\\u043e \\u043d\\u0435\\u043c\\u0430\\u043b\\u043e \\u043d\\u0430\\u043a\\u043b\\u0435\\u0435\\u043a.\\n-\\u0427\\u0442\\u043e \\u0442\\u0430\\u043c?- \\u0441\\u043f\\u0440\\u043e\\u0441\\u0438\\u043b\\u0430 \\u041e\\u043b\\u044c\\u0433\\u0430.\\n\\u0410\\u043b\\u0435\\u043d\\u0430, \\u043a\\u043e\\u0442\\u043e\\u0440\\u0430\\u044f \\u0431\\u044b\\u043b\\u0430 \\u0432 \\u043f\\u043e\\u043b\\u043e\\u0436\\u0435\\u043d\\u0438\\u0438, \\u0442\\u043e\\u0440\\u0433\\u043e\\u0432\\u0430\\u043b\\u0430 \\u0430\\u0432\\u0442\\u043e\\u0440\\u0443\\u0447\\u043a\\u0430\\u043c\\u0438 \\u0438 \\u043a\\u043b\\u0435\\u0435\\u0432\\u044b\\u043c\\u0438 \\u043f\\u0430\\u043b\\u043e\\u0447\\u043a\\u0430\\u043c\\u0438, \\u043f\\u0440\\u0435\\u0434\\u043f\\u043e\\u043b\\u043e\\u0436\\u0438\\u043b\\u0430:\\n-\\u0427\\u0442\\u043e-\\u043d\\u0438\\u0431\\u0443\\u0434\\u044c \\u043c\\u0435\\u0436\\u043f\\u043b\\u0430\\u043d\\u0435\\u0442\\u043d\\u043e\\u0435?\\n\\u041a\\u0430\\u043a \\u0432\\u044b \\u0437\\u043d\\u0430\\u0435\\u0442\\u0435, \\u043e\\u0441\\u043e\\u0431\\u0435\\u043d\\u043d\\u043e\\u0441\\u0442\\u044c \\u0412\\u0435\\u043b\\u0438\\u043a\\u043e\\u0433\\u043e \\u0413\\u0443\\u0441\\u043b\\u044f\\u0440\\u0430 \\u0437\\u0430\\u043a\\u043b\\u044e\\u0447\\u0430\\u0435\\u0442\\u0441\\u044f \\u0432 \\u0442\\u043e\\u043c, \\u0447\\u0442\\u043e \\u043e\\u043d \\u0441\\u0442\\u043e\\u0438\\u0442 \\u043d\\u0430 \\u0432\\u043e\\u0437\\u0432\\u044b\\u0448\\u0435\\u043d\\u043d\\u043e\\u0441\\u0442\\u0438, \\u043d\\u0435 \\u0432\\u0438\\u0434\\u043d\\u043e\\u0439 \\u0441 \\u0417\\u0435\\u043c\\u043b\\u0438, \\u043d\\u043e \\u0441\\u043e\\u0432\\u0435\\u0440\\u0448\\u0435\\u043d\\u043d\\u043e \\u043e\\u0447\\u0435\\u0432\\u0438\\u0434\\u043d\\u043e\\u0439 \\u043f\\u0440\\u0438 \\u0432\\u0437\\u0433\\u043b\\u044f\\u0434\\u0435 \\u0438\\u0437 \\u043a\\u043e\\u0441\\u043c\\u043e\\u0441\\u0430. \\u042d\\u0442\\u043e \\u0438 \\u043f\\u0440\\u0438\\u0432\\u043b\\u0435\\u043a\\u0430\\u0435\\u0442 \\u043a \\u0413\\u0443\\u0441\\u043b\\u044f\\u0440\\u0443 \\u0438\\u043d\\u043e\\u043f\\u043b\\u0430\\u043d\\u0435\\u0442\\u044f\\u043d, \\u043a\\u043e\\u0442\\u043e\\u0440\\u044b\\u0435 \\u0441\\u043e\\u0432\\u0435\\u0440\\u0448\\u0430\\u044e\\u0442 \\u043f\\u043e\\u0441\\u0430\\u0434\\u043a\\u0438 \\u0432 \\u043e\\u043a\\u0440\\u0435\\u0441\\u0442\\u043d\\u043e\\u0441\\u0442\\u044f\\u0445 \\u0433\\u043e\\u0440\\u043e\\u0434\\u0430 \\u0438 \\u043f\\u043e\\u0440\\u043e\\u0439 \\u043e\\u0431\\u0449\\u0430\\u044e\\u0442\\u0441\\u044f \\u0441 \\u043d\\u0430\\u0438\\u0431\\u043e\\u043b\\u0435\\u0435 \\u043b\\u044e\\u0431\\u043e\\u043f\\u044b\\u0442\\u043d\\u044b\\u043c\\u0438, \\u043d\\u0430 \\u0438\\u0445 \\u0432\\u0437\\u0433\\u043b\\u044f\\u0434, \\u0442\\u0443\\u0437\\u0435\\u043c\\u0446\\u0430\\u043c\\u0438. \\u0410 \\u0438\\u0437 \\u0442\\u0443\\u0437\\u0435\\u043c\\u0446\\u0435\\u0432 \\u0438\\u043c \\u0431\\u043e\\u043b\\u0435\\u0435 \\u0434\\u0440\\u0443\\u0433\\u0438\\u0445 \\u043f\\u0440\\u0438\\u0433\\u043b\\u044f\\u043d\\u0443\\u043b\\u0441\\u044f \\u041a\\u043e\\u0440\\u043d\\u0435\\u043b\\u0438\\u0439 \\u0423\\u0434\\u0430\\u043b\\u043e\\u0432, \\u043e\\u043d \\u0434\\u0430\\u0436\\u0435 \\u043d\\u0435\\u043e\\u0434\\u043d\\u043e\\u043a\\u0440\\u0430\\u0442\\u043d\\u043e \\u0431\\u044b\\u0432\\u0430\\u043b \\u0437\\u0430 \\u043f\\u0440\\u0435\\u0434\\u0435\\u043b\\u0430\\u043c\\u0438 \\u0421\\u043e\\u043b\\u043d\\u0435\\u0447\\u043d\\u043e\\u0439 \\u0441\\u0438\\u0441\\u0442\\u0435\\u043c\\u044b. \\u041f\\u043e\\u044d\\u0442\\u043e\\u043c\\u0443 \\u043d\\u0435\\u0443\\u0434\\u0438\\u0432\\u0438\\u0442\\u0435\\u043b\\u044c\\u043d\\u043e, \\u0447\\u0442\\u043e \\u0435\\u0441\\u043b\\u0438 \\u0432 \\u043b\\u044e\\u0431\\u043e\\u043c \\u0434\\u0440\\u0443\\u0433\\u043e\\u043c \\u0440\\u0443\\u0441\\u0441\\u043a\\u043e\\u043c \\u0433\\u043e\\u0440\\u043e\\u0434\\u0435 \\u0441\\u043b\\u043e\\u0432\\u0430 \\u041b\\u0435\\u043d\\u044b \\u0431\\u044b\\u043b\\u0438 \\u0431\\u044b \\u0432\\u0441\\u0442\\u0440\\u0435\\u0447\\u0435\\u043d\\u044b \\u0445\\u043e\\u0445\\u043e\\u0442\\u043e\\u043c \\u0438 \\u0432\\u043e\\u0441\\u043f\\u0440\\u0438\\u043d\\u044f\\u0442\\u044b \\u043a\\u0430\\u043a \\u0433\\u043b\\u0443\\u043f\\u0430\\u044f \\u0448\\u0443\\u0442\\u043a\\u0430, \\u0442\\u043e \\u0432 \\u0413\\u0443\\u0441\\u043b\\u044f\\u0440\\u0435 \\u043d\\u0438\\u043a\\u0442\\u043e \\u043d\\u0435 \\u0443\\u0434\\u0438\\u0432\\u0438\\u043b\\u0441\\u044f. \\u0422\\u043e\\u043b\\u044c\\u043a\\u043e \\u0440\\u0430\\u0437\\u0443\\u043c\\u043d\\u0430\\u044f \\u041e\\u043b\\u044c\\u0433\\u0430 \\u0441\\u043f\\u0440\\u043e\\u0441\\u0438\\u043b\\u0430:\\n-\\u0410 \\u043d\\u0430\\u043a\\u043b\\u0430\\u0434\\u043d\\u044b\\u0435 \\u0432 \\u043f\\u043e\\u0440\\u044f\\u0434\\u043a\\u0435?\\n-\\u0414\\u0435\\u0440\\u0436\\u0438,- \\u0441\\u043a\\u0430\\u0437\\u0430\\u043b \\u041d\\u0438\\u043a\\u043e\\u0434\\u0438\\u043c, \\u043a\\u043e\\u0442\\u043e\\u0440\\u044b\\u0439, \\u043a\\u0441\\u0442\\u0430\\u0442\\u0438, \\u0431\\u044b\\u043b \\u0437\\u0430\\u0441\\u043b\\u0430\\u043d\\u043d\\u044b\\u043c \\u0441 \\u0414\\u0432\\u0430-\\u0438\\u043a\\u0441 \\u0448\\u043f\\u0438\\u043e\\u043d\\u043e\\u043c \\u0438 \\u0442\\u0430\\u0438\\u043b\\u0441\\u044f \\u0432 \\u0413\\u0443\\u0441\\u043b\\u044f\\u0440\\u0435 \\u0432 \\u043e\\u0436\\u0438\\u0434\\u0430\\u043d\\u0438\\u0438 \\u0441\\u0438\\u0433\\u043d\\u0430\\u043b\\u0430 \\u043a \\u043d\\u0430\\u0447\\u0430\\u043b\\u0443 \\u0432\\u0442\\u043e\\u0440\\u0436\\u0435\\u043d\\u0438\\u044f. \\u041d\\u043e \\u043f\\u043e\\u043a\\u0430 \\u0441\\u0438\\u0433\\u043d\\u0430\\u043b\\u0430 \\u043d\\u0435 \\u043f\\u043e\\u0441\\u0442\\u0443\\u043f\\u0430\\u043b\\u043e, \\u043e\\u043d \\u043e\\u0441\\u0442\\u0430\\u0432\\u0430\\u043b\\u0441\\u044f \\u043e\\u0431\\u044b\\u043a\\u043d\\u043e\\u0432\\u0435\\u043d\\u043d\\u044b\\u043c \\u043f\\u0440\\u043e\\u0441\\u0442\\u044b\\u043c \\u0447\\u0435\\u043b\\u043e\\u0432\\u0435\\u043a\\u043e\\u043c \\u0438 \\u043d\\u0438\\u043a\\u043e\\u043c\\u0443 \\u0432\\u0440\\u0435\\u0434\\u0430 \\u043d\\u0435 \\u0434\\u0435\\u043b\\u0430\\u043b. \\u041a\\u043e\\u0433\\u0434\\u0430 \\u0441\\u0438\\u0433\\u043d\\u0430\\u043b \\u043f\\u043e\\u0441\\u0442\\u0443\\u043f\\u0438\\u0442, \\u041d\\u0438\\u043a\\u043e\\u0434\\u0438\\u043c, \\u043a\\u043e\\u043d\\u0435\\u0447\\u043d\\u043e \\u0436\\u0435, \\u0441\\u0442\\u0430\\u043d\\u0435\\u0442 \\u0441\\u0442\\u0440\\u0430\\u0448\\u0435\\u043d, \\u043d\\u043e \\u043c\\u043e\\u0436\\u0435\\u0442 \\u0431\\u044b\\u0442\\u044c, \\u044d\\u0442\\u043e \\u0441\\u043b\\u0443\\u0447\\u0438\\u0442\\u0441\\u044f \\u043d\\u0435 \\u0441\\u043a\\u043e\\u0440\\u043e.\\n\\u041d\\u0430\\u043a\\u043b\\u0430\\u0434\\u043d\\u0430\\u044f \\u0431\\u044b\\u043b\\u0430 \\u0432 \\u043d\\u043e\\u0440\\u043c\\u0435.\",\n          \"\\u042d\\u0439\\u0444\\u043e\\u0440\\u0438\\u044e, \\u0441\\u0430\\u043c\\u044b\\u0439 \\u043d\\u0430\\u0441\\u0442\\u043e\\u044f\\u0449\\u0438\\u0439 \\u043a\\u0430\\u0439\\u0444.\\n\\u042d\\u043c\\u0438\\u043b\\u0438 \\u0431\\u0435\\u0436\\u0430\\u043b\\u0430 \\u043f\\u043e \\u0433\\u043e\\u0440\\u043e\\u0434\\u0443 (\\u0434\\u0432\\u0435 \\u043c\\u0438\\u043b\\u0438 \\u0437\\u0430 \\u0434\\u0432\\u0430\\u0434\\u0446\\u0430\\u0442\\u044c \\u0434\\u0432\\u0435 \\u043c\\u0438\\u043d\\u0443\\u0442\\u044b); \\u0435\\u0441\\u043b\\u0438 \\u0437\\u0430\\u0433\\u043e\\u0440\\u0430\\u043b\\u0441\\u044f \\u043a\\u0440\\u0430\\u0441\\u043d\\u044b\\u0439, \\u043e\\u043d\\u0430 \\u043d\\u0435 \\u043e\\u0441\\u0442\\u0430\\u043d\\u0430\\u0432\\u043b\\u0438\\u0432\\u0430\\u043b\\u0430\\u0441\\u044c, \\u0430 \\u0431\\u0435\\u0436\\u0430\\u043b\\u0430 \\u043d\\u0430 \\u043c\\u0435\\u0441\\u0442\\u0435. \\u041d\\u0430 \\u0443\\u0433\\u043b\\u0443 \\u041c\\u044d\\u0439\\u043d \\u0438 \\u0418\\u0441\\u0442\\u0435\\u0440\\u043d-\\u0441\\u0442\\u0440\\u0438\\u0442 \\u043c\\u0438\\u043c\\u043e \\u043f\\u0440\\u043e\\u0435\\u0445\\u0430\\u043b\\u0438 \\u0434\\u0432\\u0430 \\u043f\\u0430\\u0440\\u043d\\u044f \\u043d\\u0430 \\u00ab\\u043c\\u0443\\u0441\\u0442\\u0430\\u043d\\u0433\\u0435\\u00bb \\u0441 \\u043e\\u0442\\u043a\\u0438\\u0434\\u043d\\u044b\\u043c \\u0432\\u0435\\u0440\\u0445\\u043e\\u043c (\\u043f\\u043e\\u0433\\u043e\\u0434\\u0430 \\u0431\\u044b\\u043b\\u0430 \\u043a\\u0430\\u043a \\u0440\\u0430\\u0437 \\u043f\\u043e\\u0434\\u0445\\u043e\\u0434\\u044f\\u0449\\u0430\\u044f). \\u041e\\u0434\\u0438\\u043d \\u0437\\u0430\\u0441\\u0432\\u0438\\u0441\\u0442\\u0435\\u043b, \\u0438 \\u042d\\u043c\\u0438\\u043b\\u0438 \\u043f\\u043e\\u043a\\u0430\\u0437\\u0430\\u043b\\u0430 \\u043d\\u0430\\u0433\\u043b\\u0435\\u0446\\u0443 \\u0441\\u0440\\u0435\\u0434\\u043d\\u0438\\u0439 \\u043f\\u0430\\u043b\\u0435\\u0446. \\u041d\\u0430\\u0433\\u043b\\u0435\\u0446 \\u0440\\u0430\\u0441\\u0445\\u043e\\u0445\\u043e\\u0442\\u0430\\u043b\\u0441\\u044f, \\u0437\\u0430\\u0430\\u043f\\u043b\\u043e\\u0434\\u0438\\u0440\\u043e\\u0432\\u0430\\u043b, \\u0438 \\u00ab\\u043c\\u0443\\u0441\\u0442\\u0430\\u043d\\u0433\\u00bb \\u043f\\u043e\\u043c\\u0447\\u0430\\u043b\\u0441\\u044f \\u043f\\u043e \\u041c\\u044d\\u0439\\u043d-\\u0441\\u0442\\u0440\\u0438\\u0442.\\n\\u0414\\u0435\\u043d\\u0435\\u0433 \\u0441 \\u0441\\u043e\\u0431\\u043e\\u0439 \\u0431\\u044b\\u043b\\u043e \\u0432 \\u043e\\u0431\\u0440\\u0435\\u0437, \\u0437\\u0430\\u0442\\u043e \\u0438\\u043c\\u0435\\u043b\\u0430\\u0441\\u044c \\u043f\\u0430\\u0440\\u0430 \\u043a\\u0440\\u0435\\u0434\\u0438\\u0442\\u043e\\u043a. \\u041e\\u0441\\u043e\\u0431\\u0435\\u043d\\u043d\\u043e \\u043f\\u043e\\u0440\\u0430\\u0434\\u043e\\u0432\\u0430\\u043b\\u043e \\u043d\\u0430\\u043b\\u0438\\u0447\\u0438\\u0435 \\u00ab\\u0410\\u043c\\u0435\\u0440\\u0438\\u043a\\u0430\\u043d \\u044d\\u043a\\u0441\\u043f\\u0440\\u0435\\u0441\\u0441\\u00bb, \\u0432\\u0435\\u0434\\u044c \\u0441 \\u043d\\u0435\\u0439 \\u043c\\u043e\\u0436\\u043d\\u043e \\u043f\\u043e\\u043b\\u0443\\u0447\\u0438\\u0442\\u044c \\u0434\\u043e\\u0440\\u043e\\u0436\\u043d\\u044b\\u0435 \\u0447\\u0435\\u043a\\u0438.\\n\\u042d\\u043c\\u0438\\u043b\\u0438 \\u043f\\u043e\\u043d\\u044f\\u043b\\u0430: \\u0434\\u043e\\u043c\\u043e\\u0439 \\u043e\\u043d\\u0430 \\u043d\\u0435 \\u0441\\u043e\\u0431\\u0438\\u0440\\u0430\\u0435\\u0442\\u0441\\u044f, \\u043f\\u043e \\u043a\\u0440\\u0430\\u0439\\u043d\\u0435\\u0439 \\u043c\\u0435\\u0440\\u0435 \\u0432 \\u0431\\u043b\\u0438\\u0436\\u0430\\u0439\\u0448\\u0438\\u0435 \\u0434\\u043d\\u0438. \\u041f\\u043e\\u043d\\u0438\\u043c\\u0430\\u043d\\u0438\\u0435 \\u043f\\u0440\\u0438\\u043d\\u0435\\u0441\\u043b\\u043e \\u043d\\u0435 \\u0433\\u0440\\u0443\\u0441\\u0442\\u044c, \\u0430 \\u043e\\u0431\\u043b\\u0435\\u0433\\u0447\\u0435\\u043d\\u0438\\u0435, \\u0438 \\u0443 \\u043d\\u0435\\u0435 \\u043c\\u0435\\u043b\\u044c\\u043a\\u043d\\u0443\\u043b\\u0430 \\u043c\\u044b\\u0441\\u043b\\u044c, \\u0447\\u0442\\u043e \\u044d\\u0442\\u0430 \\u043c\\u0435\\u0440\\u0430 \\u043d\\u0435 \\u0432\\u0440\\u0435\\u043c\\u0435\\u043d\\u043d\\u0430\\u044f.\\n\\u0412 \\u043e\\u0442\\u0435\\u043b\\u044c \\u00ab\\u041c\\u043e\\u0440\\u0440\\u0438\\u0441\\u00bb \\u043e\\u043d\\u0430 \\u0437\\u0430\\u0433\\u043b\\u044f\\u043d\\u0443\\u043b\\u0430, \\u0447\\u0442\\u043e\\u0431\\u044b \\u043f\\u043e\\u0437\\u0432\\u043e\\u043d\\u0438\\u0442\\u044c, \\u043d\\u043e, \\u043f\\u043e\\u0434\\u0434\\u0430\\u0432\\u0448\\u0438\\u0441\\u044c \\u043f\\u043e\\u0440\\u044b\\u0432\\u0443, \\u0440\\u0435\\u0448\\u0438\\u043b\\u0430 \\u0432 \\u043d\\u0435\\u043c \\u0437\\u0430\\u043d\\u043e\\u0447\\u0435\\u0432\\u0430\\u0442\\u044c. \\u041c\\u043e\\u0436\\u043d\\u043e \\u0441\\u043d\\u044f\\u0442\\u044c \\u043d\\u043e\\u043c\\u0435\\u0440 \\u043d\\u0430 \\u043e\\u0434\\u043d\\u0443 \\u043d\\u043e\\u0447\\u044c? \\u0414\\u0430, \\u043a\\u043e\\u043d\\u0435\\u0447\\u043d\\u043e. \\u041e\\u043d\\u0430 \\u043f\\u0440\\u043e\\u0442\\u044f\\u043d\\u0443\\u043b\\u0430 \\u0430\\u0434\\u043c\\u0438\\u043d\\u0438\\u0441\\u0442\\u0440\\u0430\\u0442\\u043e\\u0440\\u0443 \\u0441\\u0432\\u043e\\u0439 \\u00ab\\u0410\\u043c\\u0435\\u043a\\u0441\\u00bb.\\n-\\u041f\\u043e\\u0441\\u044b\\u043b\\u044c\\u043d\\u044b\\u0439 \\u0432\\u0430\\u043c, \\u0432\\u0438\\u0434\\u0438\\u043c\\u043e, \\u043d\\u0435 \\u043f\\u043e\\u043d\\u0430\\u0434\\u043e\\u0431\\u0438\\u0442\\u0441\\u044f,- \\u043f\\u0440\\u043e\\u0433\\u043e\\u0432\\u043e\\u0440\\u0438\\u043b \\u043e\\u043d, \\u043c\\u043d\\u043e\\u0433\\u043e\\u0437\\u043d\\u0430\\u0447\\u0438\\u0442\\u0435\\u043b\\u044c\\u043d\\u043e \\u0433\\u043b\\u044f\\u0434\\u044f \\u043d\\u0430 \\u0435\\u0435 \\u0444\\u0443\\u0442\\u0431\\u043e\\u043b\\u043a\\u0443 \\u0438 \\u0448\\u043e\\u0440\\u0442\\u044b.\\n-\\u042f \\u0443\\u0435\\u0437\\u0436\\u0430\\u043b\\u0430 \\u0432 \\u0441\\u043f\\u0435\\u0448\\u043a\\u0435.\\n-\\u041f\\u043e\\u043d\\u044f-\\u0430\\u0442\\u043d\\u043e\\u2026- \\u043f\\u0440\\u043e\\u0442\\u044f\\u043d\\u0443\\u043b \\u0430\\u0434\\u043c\\u0438\\u043d\\u0438\\u0441\\u0442\\u0440\\u0430\\u0442\\u043e\\u0440 \\u0442\\u043e\\u043d\\u043e\\u043c, \\u0438\\u0437 \\u043a\\u043e\\u0442\\u043e\\u0440\\u043e\\u0433\\u043e \\u0441\\u043b\\u0435\\u0434\\u043e\\u0432\\u0430\\u043b\\u043e \\u043e\\u0431\\u0440\\u0430\\u0442\\u043d\\u043e\\u0435.\",\n          \"\\u00ab\\u0428\\u0442\\u043e \\u043c\\u044b \\u0434\\u0435\\u043b\\u0430\\u043b\\u0438 \\u043d\\u0430 \\u043a\\u0430\\u043d\\u0438\\u043a\\u0443\\u043b\\u0430\\u0445: \\u041d\\u0430 \\u043a\\u0430\\u043d\\u0438\\u043a\\u0443\\u043b\\u0430\\u0445 \\u044f \\u043a\\u043e\\u0441\\u0442\\u0438\\u043b\\u0430 \\u0443 \\u0434\\u0435\\u0434\\u0443\\u0448\\u043a\\u0438, \\u0443 \\u043d\\u0435\\u0432\\u043e \\u0435\\u0441\\u0442\\u044c \\u0431\\u0430\\u043b\\u044c\\u0448\\u0430\\u044f \\u0431\\u0435\\u043b\\u0430\\u044f \\u043b\\u043e\\u0448\\u0430\\u0442\\u044c \\u0438 \\u0441\\u0430\\u0434, \\u0447\\u043e\\u0440\\u043d\\u044b\\u0439-\\u043f\\u0440\\u0438\\u0447\\u043e\\u0440\\u043d\\u044b\\u0439. \\u041c\\u044b \\u0435\\u043b\\u0438 \\u044f\\u0438\\u0446\\u0430 \\u0438 \\u0447\\u0438\\u043f\\u0441\\u044b\\u00bb.\\n\\u0412\\u0441\\u043f\\u044b\\u0445\\u0438\\u0432\\u0430\\u0435\\u0442 \\u0432\\u044b\\u0442\\u0435\\u043a\\u0448\\u0435\\u0435 \\u0438\\u0437 \\u043a\\u0430\\u0440\\u0435\\u0442\\u043d\\u044b\\u0445 \\u0444\\u043e\\u043d\\u0430\\u0440\\u0435\\u0439 \\u043c\\u0430\\u0441\\u043b\\u043e, \\u0440\\u0430\\u0437\\u0434\\u0430\\u0435\\u0442\\u0441\\u044f \\u0432\\u0437\\u0440\\u044b\\u0432, \\u0438 \\u0438\\u0437 \\u043a\\u043b\\u0443\\u0431\\u043e\\u0432 \\u0435\\u0434\\u043a\\u043e\\u0433\\u043e \\u0434\\u044b\\u043c\\u0430 \\u2013 \\u0442\\u0440\\u0430\\u0433\\u0435\\u0434\\u0438\\u044f \\u0442\\u043e\\u0436\\u0435 \\u043f\\u043e\\u0434\\u0447\\u0438\\u043d\\u044f\\u0435\\u0442\\u0441\\u044f \\u0437\\u0430\\u043a\\u043e\\u043d\\u0430\\u043c \\u0436\\u0430\\u043d\\u0440\\u0430 \\u2013 \\u0432\\u044b\\u043a\\u0430\\u0442\\u044b\\u0432\\u0430\\u0435\\u0442\\u0441\\u044f \\u0433\\u043e\\u0440\\u044f\\u0449\\u0435\\u0435 \\u043a\\u043e\\u043b\\u0435\\u0441\\u043e.\\n\\u0410 \\u0432\\u043e\\u0442 \\u043a\\u0430\\u0440\\u0442\\u0438\\u043d\\u043a\\u0430. \\u041a\\u043e\\u0442\\u043e\\u0440\\u0443\\u044e \\u043d\\u0430\\u0440\\u0438\\u0441\\u043e\\u0432\\u0430\\u043b\\u0430 \\u0434\\u0435\\u0432\\u043e\\u0447\\u043a\\u0430 \\u0432 \\u0432\\u043e\\u0437\\u0440\\u0430\\u0441\\u0442\\u0435 \\u0441\\u0435\\u043c\\u0438 \\u043b\\u0435\\u0442. \\u0421\\u043f\\u043b\\u043e\\u0448\\u043d\\u044b\\u0435 \\u0447\\u0435\\u0440\\u043d\\u044b\\u0435 \\u0442\\u043e\\u043d\\u0430. \\u0413\\u043e\\u0441\\u043f\\u043e\\u0436\\u0430 \\u041d\\u043e\\u043d\\u043e \\u043d\\u0435\\u0434\\u043e\\u0432\\u043e\\u043b\\u044c\\u043d\\u043e \\u0444\\u044b\\u0440\\u043a\\u043d\\u0443\\u043b\\u0430. \\u0429\\u0435\\u0431\\u043e\\u0442\\u0430\\u043d\\u0441\\u043a\\u0438\\u0439 \\u043a\\u043e\\u043b\\u043b\\u0435\\u0434\\u0436 \\u0434\\u043b\\u044f \\u043c\\u043e\\u043b\\u043e\\u0434\\u044b\\u0445 \\u0431\\u0430\\u0440\\u044b\\u0448\\u0435\\u043d\\u044c \\u0437\\u0430\\u043a\\u0443\\u043f\\u0430\\u043b \\u0441\\u0430\\u043c\\u044b\\u0435 \\u0434\\u043e\\u0440\\u043e\\u0433\\u0438\\u0435 \\u043a\\u0430\\u0440\\u0430\\u043d\\u0434\\u0430\\u0448\\u0438. \\u0420\\u0430\\u0437\\u0443\\u043c\\u0435\\u0435\\u0442\\u0441\\u044f, \\u0432\\u0441\\u0435\\u0445 \\u0446\\u0432\\u0435\\u0442\\u043e\\u0432 \\u0438 \\u043e\\u0442\\u0442\\u0435\\u043d\\u043a\\u043e\\u0432. \\u041d\\u043e \\u0434\\u0435\\u0432\\u0447\\u043e\\u043d\\u043a\\u0430 \\u0441\\u043b\\u043e\\u0432\\u043d\\u043e \\u043d\\u0430\\u0437\\u043b\\u043e \\u0432\\u044b\\u0431\\u0440\\u0430\\u043b\\u0430 \\u0447\\u0435\\u0440\\u043d\\u044b\\u0439.\\n\\u041f\\u043e\\u0441\\u043b\\u0435\\u0434\\u043d\\u0438\\u0439 \\u0438\\u0437 \\u0443\\u0433\\u043e\\u043b\\u044c\\u043a\\u043e\\u0432 \\u0441 \\u0442\\u0438\\u0445\\u0438\\u043c \\u0442\\u0440\\u0435\\u0441\\u043a\\u043e\\u043c \\u0449\\u0435\\u043b\\u043a\\u0430\\u0435\\u0442, \\u0437\\u0430\\u0442\\u0443\\u0445\\u0430\\u0435\\u0442, \\u0438 \\u0432\\u043e\\u0446\\u0430\\u0440\\u044f\\u0435\\u0442\\u0441\\u044f \\u0442\\u0438\\u0448\\u0438\\u043d\\u0430.\\n\\u0418 \\u0442\\u0443\\u0442 \\u043f\\u043e\\u044f\\u0432\\u043b\\u044f\\u0435\\u0442\\u0441\\u044f \\u043d\\u0430\\u0431\\u043b\\u044e\\u0434\\u0430\\u0442\\u0435\\u043b\\u044c.\\n-\\u0414\\u0410. \\u042f \\u041c\\u041e\\u0413 \\u0427\\u0422\\u041e-\\u041d\\u0418\\u0411\\u0423\\u0414\\u042c \\u0421\\u0414\\u0415\\u041b\\u0410\\u0422\\u042c,- \\u0431\\u0440\\u043e\\u0441\\u0430\\u0435\\u0442 \\u043e\\u043d \\u043a\\u043e\\u043c\\u0443-\\u0442\\u043e, \\u0441\\u043a\\u0440\\u044b\\u0432\\u0430\\u044e\\u0449\\u0435\\u043c\\u0443\\u0441\\u044f \\u0432\\u043e \\u0442\\u044c\\u043c\\u0435.\\n\\u041f\\u043e\\u0441\\u043b\\u0435 \\u0447\\u0435\\u0433\\u043e \\u0443\\u0435\\u0437\\u0436\\u0430\\u0435\\u0442 \\u043d\\u0430 \\u043b\\u043e\\u0448\\u0430\\u0434\\u0438 \\u043f\\u0440\\u043e\\u0447\\u044c.\\n\\u0413\\u043e\\u0441\\u043f\\u043e\\u0436\\u0430 \\u041d\\u043e\\u043d\\u043e \\u0441\\u043d\\u043e\\u0432\\u0430 \\u0437\\u0430\\u0448\\u0443\\u0440\\u0448\\u0430\\u043b\\u0430 \\u0431\\u0443\\u043c\\u0430\\u0433\\u0430\\u043c\\u0438. \\u041e\\u043d\\u0430 \\u0447\\u0443\\u0432\\u0441\\u0442\\u0432\\u043e\\u0432\\u0430\\u043b\\u0430 \\u0441\\u0435\\u0431\\u044f \\u0430\\u0431\\u0441\\u043e\\u043b\\u044e\\u0442\\u043d\\u043e \\u0441\\u0431\\u0438\\u0442\\u043e\\u0439 \\u0441 \\u0442\\u043e\\u043b\\u043a\\u0443, \\u043e\\u043d\\u0430 \\u043d\\u0435\\u0440\\u0432\\u043d\\u0438\\u0447\\u0430\\u043b\\u0430 \\u2013 \\u0432\\u043f\\u0440\\u043e\\u0447\\u0435\\u043c, \\u043f\\u043e\\u0434\\u043e\\u0431\\u043d\\u044b\\u043c \\u043e\\u0431\\u0440\\u0430\\u0437\\u043e\\u043c \\u0432\\u0435\\u043b \\u0431\\u044b \\u0441\\u0435\\u0431\\u044f \\u043b\\u044e\\u0431\\u043e\\u0439 \\u043d\\u043e\\u0440\\u043c\\u0430\\u043b\\u044c\\u043d\\u044b\\u0439 \\u0447\\u0435\\u043b\\u043e\\u0432\\u0435\\u043a, \\u0441\\u0442\\u043e\\u043b\\u043a\\u043d\\u0443\\u0432\\u0448\\u0438\\u0439\\u0441\\u044f \\u0441 \\u044d\\u0442\\u043e\\u0439 \\u0434\\u0435\\u0432\\u0447\\u043e\\u043d\\u043a\\u043e\\u0439. \\u041e\\u0431\\u044b\\u0447\\u043d\\u043e \\u0431\\u0443\\u043c\\u0430\\u0433\\u0438 \\u0443\\u0441\\u043f\\u043e\\u043a\\u0430\\u0438\\u0432\\u0430\\u043b\\u0438 \\u0435\\u0435. \\u041e\\u043d\\u0438 \\u2013 \\u0441\\u0430\\u043c\\u0430 \\u043d\\u0430\\u0434\\u0435\\u0436\\u043d\\u043e\\u0441\\u0442\\u044c, \\u043d\\u0430 \\u043d\\u0438\\u0445 \\u0432\\u0441\\u0435\\u0433\\u0434\\u0430 \\u043c\\u043e\\u0436\\u043d\\u043e \\u043f\\u043e\\u043b\\u043e\\u0436\\u0438\\u0442\\u044c\\u0441\\u044f.\"\n        ],\n        \"semantic_type\": \"\",\n        \"description\": \"\"\n      }\n    },\n    {\n      \"column\": \"author\",\n      \"properties\": {\n        \"dtype\": \"category\",\n        \"num_unique_values\": 8,\n        \"samples\": [\n          \"Akunin\",\n          \"King\",\n          \"Dostoevsky\"\n        ],\n        \"semantic_type\": \"\",\n        \"description\": \"\"\n      }\n    }\n  ]\n}"
            }
          },
          "metadata": {},
          "execution_count": 9
        }
      ]
    },
    {
      "cell_type": "code",
      "source": [
        "from sklearn.model_selection import train_test_split\n",
        "x_train, x_test, y_train, y_test = train_test_split(data.drop(['author', 'id'], axis=1), data.author, test_size=0.2, random_state=42)"
      ],
      "metadata": {
        "id": "nmHR0MzaxNEb"
      },
      "execution_count": null,
      "outputs": []
    },
    {
      "cell_type": "code",
      "source": [
        "#Частота вхождения слова в текст\n",
        "vectarizer = CountVectorizer()\n",
        "vectarizer.fit(x_train.append(x_test).text)"
      ],
      "metadata": {
        "colab": {
          "base_uri": "https://localhost:8080/",
          "height": 129
        },
        "id": "FLpONdsIyAvU",
        "outputId": "3385a393-69d9-4b38-d95d-2d4df13a6578"
      },
      "execution_count": null,
      "outputs": [
        {
          "output_type": "stream",
          "name": "stderr",
          "text": [
            "<ipython-input-11-af84a9c7ed90>:3: FutureWarning: The frame.append method is deprecated and will be removed from pandas in a future version. Use pandas.concat instead.\n",
            "  vectarizer.fit(x_train.append(x_test).text)\n"
          ]
        },
        {
          "output_type": "execute_result",
          "data": {
            "text/plain": [
              "CountVectorizer()"
            ],
            "text/html": [
              "<style>#sk-container-id-3 {color: black;background-color: white;}#sk-container-id-3 pre{padding: 0;}#sk-container-id-3 div.sk-toggleable {background-color: white;}#sk-container-id-3 label.sk-toggleable__label {cursor: pointer;display: block;width: 100%;margin-bottom: 0;padding: 0.3em;box-sizing: border-box;text-align: center;}#sk-container-id-3 label.sk-toggleable__label-arrow:before {content: \"▸\";float: left;margin-right: 0.25em;color: #696969;}#sk-container-id-3 label.sk-toggleable__label-arrow:hover:before {color: black;}#sk-container-id-3 div.sk-estimator:hover label.sk-toggleable__label-arrow:before {color: black;}#sk-container-id-3 div.sk-toggleable__content {max-height: 0;max-width: 0;overflow: hidden;text-align: left;background-color: #f0f8ff;}#sk-container-id-3 div.sk-toggleable__content pre {margin: 0.2em;color: black;border-radius: 0.25em;background-color: #f0f8ff;}#sk-container-id-3 input.sk-toggleable__control:checked~div.sk-toggleable__content {max-height: 200px;max-width: 100%;overflow: auto;}#sk-container-id-3 input.sk-toggleable__control:checked~label.sk-toggleable__label-arrow:before {content: \"▾\";}#sk-container-id-3 div.sk-estimator input.sk-toggleable__control:checked~label.sk-toggleable__label {background-color: #d4ebff;}#sk-container-id-3 div.sk-label input.sk-toggleable__control:checked~label.sk-toggleable__label {background-color: #d4ebff;}#sk-container-id-3 input.sk-hidden--visually {border: 0;clip: rect(1px 1px 1px 1px);clip: rect(1px, 1px, 1px, 1px);height: 1px;margin: -1px;overflow: hidden;padding: 0;position: absolute;width: 1px;}#sk-container-id-3 div.sk-estimator {font-family: monospace;background-color: #f0f8ff;border: 1px dotted black;border-radius: 0.25em;box-sizing: border-box;margin-bottom: 0.5em;}#sk-container-id-3 div.sk-estimator:hover {background-color: #d4ebff;}#sk-container-id-3 div.sk-parallel-item::after {content: \"\";width: 100%;border-bottom: 1px solid gray;flex-grow: 1;}#sk-container-id-3 div.sk-label:hover label.sk-toggleable__label {background-color: #d4ebff;}#sk-container-id-3 div.sk-serial::before {content: \"\";position: absolute;border-left: 1px solid gray;box-sizing: border-box;top: 0;bottom: 0;left: 50%;z-index: 0;}#sk-container-id-3 div.sk-serial {display: flex;flex-direction: column;align-items: center;background-color: white;padding-right: 0.2em;padding-left: 0.2em;position: relative;}#sk-container-id-3 div.sk-item {position: relative;z-index: 1;}#sk-container-id-3 div.sk-parallel {display: flex;align-items: stretch;justify-content: center;background-color: white;position: relative;}#sk-container-id-3 div.sk-item::before, #sk-container-id-3 div.sk-parallel-item::before {content: \"\";position: absolute;border-left: 1px solid gray;box-sizing: border-box;top: 0;bottom: 0;left: 50%;z-index: -1;}#sk-container-id-3 div.sk-parallel-item {display: flex;flex-direction: column;z-index: 1;position: relative;background-color: white;}#sk-container-id-3 div.sk-parallel-item:first-child::after {align-self: flex-end;width: 50%;}#sk-container-id-3 div.sk-parallel-item:last-child::after {align-self: flex-start;width: 50%;}#sk-container-id-3 div.sk-parallel-item:only-child::after {width: 0;}#sk-container-id-3 div.sk-dashed-wrapped {border: 1px dashed gray;margin: 0 0.4em 0.5em 0.4em;box-sizing: border-box;padding-bottom: 0.4em;background-color: white;}#sk-container-id-3 div.sk-label label {font-family: monospace;font-weight: bold;display: inline-block;line-height: 1.2em;}#sk-container-id-3 div.sk-label-container {text-align: center;}#sk-container-id-3 div.sk-container {/* jupyter's `normalize.less` sets `[hidden] { display: none; }` but bootstrap.min.css set `[hidden] { display: none !important; }` so we also need the `!important` here to be able to override the default hidden behavior on the sphinx rendered scikit-learn.org. See: https://github.com/scikit-learn/scikit-learn/issues/21755 */display: inline-block !important;position: relative;}#sk-container-id-3 div.sk-text-repr-fallback {display: none;}</style><div id=\"sk-container-id-3\" class=\"sk-top-container\"><div class=\"sk-text-repr-fallback\"><pre>CountVectorizer()</pre><b>In a Jupyter environment, please rerun this cell to show the HTML representation or trust the notebook. <br />On GitHub, the HTML representation is unable to render, please try loading this page with nbviewer.org.</b></div><div class=\"sk-container\" hidden><div class=\"sk-item\"><div class=\"sk-estimator sk-toggleable\"><input class=\"sk-toggleable__control sk-hidden--visually\" id=\"sk-estimator-id-3\" type=\"checkbox\" checked><label for=\"sk-estimator-id-3\" class=\"sk-toggleable__label sk-toggleable__label-arrow\">CountVectorizer</label><div class=\"sk-toggleable__content\"><pre>CountVectorizer()</pre></div></div></div></div></div>"
            ]
          },
          "metadata": {},
          "execution_count": 11
        }
      ]
    },
    {
      "cell_type": "code",
      "source": [
        "x_train = vectarizer.transform(x_train.text)\n",
        "x_test = vectarizer.transform(x_test.text)\n",
        "y_train = y_train.values\n",
        "y_test = y_test.values"
      ],
      "metadata": {
        "id": "kZ-ARm5jybHw"
      },
      "execution_count": null,
      "outputs": []
    },
    {
      "cell_type": "markdown",
      "source": [
        "**Обучение классификатора**"
      ],
      "metadata": {
        "id": "t8ehun9qy_6n"
      }
    },
    {
      "cell_type": "code",
      "source": [
        "classifier = LogisticRegression()\n",
        "classifier.fit(x_train, y_train)"
      ],
      "metadata": {
        "colab": {
          "base_uri": "https://localhost:8080/",
          "height": 213
        },
        "id": "-duGmf1QzFQW",
        "outputId": "b2977164-d6eb-44e1-df68-07a8558caef4"
      },
      "execution_count": null,
      "outputs": [
        {
          "output_type": "stream",
          "name": "stderr",
          "text": [
            "/usr/local/lib/python3.10/dist-packages/sklearn/linear_model/_logistic.py:458: ConvergenceWarning: lbfgs failed to converge (status=1):\n",
            "STOP: TOTAL NO. of ITERATIONS REACHED LIMIT.\n",
            "\n",
            "Increase the number of iterations (max_iter) or scale the data as shown in:\n",
            "    https://scikit-learn.org/stable/modules/preprocessing.html\n",
            "Please also refer to the documentation for alternative solver options:\n",
            "    https://scikit-learn.org/stable/modules/linear_model.html#logistic-regression\n",
            "  n_iter_i = _check_optimize_result(\n"
          ]
        },
        {
          "output_type": "execute_result",
          "data": {
            "text/plain": [
              "LogisticRegression()"
            ],
            "text/html": [
              "<style>#sk-container-id-4 {color: black;background-color: white;}#sk-container-id-4 pre{padding: 0;}#sk-container-id-4 div.sk-toggleable {background-color: white;}#sk-container-id-4 label.sk-toggleable__label {cursor: pointer;display: block;width: 100%;margin-bottom: 0;padding: 0.3em;box-sizing: border-box;text-align: center;}#sk-container-id-4 label.sk-toggleable__label-arrow:before {content: \"▸\";float: left;margin-right: 0.25em;color: #696969;}#sk-container-id-4 label.sk-toggleable__label-arrow:hover:before {color: black;}#sk-container-id-4 div.sk-estimator:hover label.sk-toggleable__label-arrow:before {color: black;}#sk-container-id-4 div.sk-toggleable__content {max-height: 0;max-width: 0;overflow: hidden;text-align: left;background-color: #f0f8ff;}#sk-container-id-4 div.sk-toggleable__content pre {margin: 0.2em;color: black;border-radius: 0.25em;background-color: #f0f8ff;}#sk-container-id-4 input.sk-toggleable__control:checked~div.sk-toggleable__content {max-height: 200px;max-width: 100%;overflow: auto;}#sk-container-id-4 input.sk-toggleable__control:checked~label.sk-toggleable__label-arrow:before {content: \"▾\";}#sk-container-id-4 div.sk-estimator input.sk-toggleable__control:checked~label.sk-toggleable__label {background-color: #d4ebff;}#sk-container-id-4 div.sk-label input.sk-toggleable__control:checked~label.sk-toggleable__label {background-color: #d4ebff;}#sk-container-id-4 input.sk-hidden--visually {border: 0;clip: rect(1px 1px 1px 1px);clip: rect(1px, 1px, 1px, 1px);height: 1px;margin: -1px;overflow: hidden;padding: 0;position: absolute;width: 1px;}#sk-container-id-4 div.sk-estimator {font-family: monospace;background-color: #f0f8ff;border: 1px dotted black;border-radius: 0.25em;box-sizing: border-box;margin-bottom: 0.5em;}#sk-container-id-4 div.sk-estimator:hover {background-color: #d4ebff;}#sk-container-id-4 div.sk-parallel-item::after {content: \"\";width: 100%;border-bottom: 1px solid gray;flex-grow: 1;}#sk-container-id-4 div.sk-label:hover label.sk-toggleable__label {background-color: #d4ebff;}#sk-container-id-4 div.sk-serial::before {content: \"\";position: absolute;border-left: 1px solid gray;box-sizing: border-box;top: 0;bottom: 0;left: 50%;z-index: 0;}#sk-container-id-4 div.sk-serial {display: flex;flex-direction: column;align-items: center;background-color: white;padding-right: 0.2em;padding-left: 0.2em;position: relative;}#sk-container-id-4 div.sk-item {position: relative;z-index: 1;}#sk-container-id-4 div.sk-parallel {display: flex;align-items: stretch;justify-content: center;background-color: white;position: relative;}#sk-container-id-4 div.sk-item::before, #sk-container-id-4 div.sk-parallel-item::before {content: \"\";position: absolute;border-left: 1px solid gray;box-sizing: border-box;top: 0;bottom: 0;left: 50%;z-index: -1;}#sk-container-id-4 div.sk-parallel-item {display: flex;flex-direction: column;z-index: 1;position: relative;background-color: white;}#sk-container-id-4 div.sk-parallel-item:first-child::after {align-self: flex-end;width: 50%;}#sk-container-id-4 div.sk-parallel-item:last-child::after {align-self: flex-start;width: 50%;}#sk-container-id-4 div.sk-parallel-item:only-child::after {width: 0;}#sk-container-id-4 div.sk-dashed-wrapped {border: 1px dashed gray;margin: 0 0.4em 0.5em 0.4em;box-sizing: border-box;padding-bottom: 0.4em;background-color: white;}#sk-container-id-4 div.sk-label label {font-family: monospace;font-weight: bold;display: inline-block;line-height: 1.2em;}#sk-container-id-4 div.sk-label-container {text-align: center;}#sk-container-id-4 div.sk-container {/* jupyter's `normalize.less` sets `[hidden] { display: none; }` but bootstrap.min.css set `[hidden] { display: none !important; }` so we also need the `!important` here to be able to override the default hidden behavior on the sphinx rendered scikit-learn.org. See: https://github.com/scikit-learn/scikit-learn/issues/21755 */display: inline-block !important;position: relative;}#sk-container-id-4 div.sk-text-repr-fallback {display: none;}</style><div id=\"sk-container-id-4\" class=\"sk-top-container\"><div class=\"sk-text-repr-fallback\"><pre>LogisticRegression()</pre><b>In a Jupyter environment, please rerun this cell to show the HTML representation or trust the notebook. <br />On GitHub, the HTML representation is unable to render, please try loading this page with nbviewer.org.</b></div><div class=\"sk-container\" hidden><div class=\"sk-item\"><div class=\"sk-estimator sk-toggleable\"><input class=\"sk-toggleable__control sk-hidden--visually\" id=\"sk-estimator-id-4\" type=\"checkbox\" checked><label for=\"sk-estimator-id-4\" class=\"sk-toggleable__label sk-toggleable__label-arrow\">LogisticRegression</label><div class=\"sk-toggleable__content\"><pre>LogisticRegression()</pre></div></div></div></div></div>"
            ]
          },
          "metadata": {},
          "execution_count": 13
        }
      ]
    },
    {
      "cell_type": "code",
      "source": [
        "y_pred = classifier.predict(x_test)\n",
        "\n",
        "pres = precision_score(y_test, y_pred, average='weighted')\n",
        "p = classifier.predict_proba(x_test)[:,1]\n",
        "recall = recall_score(y_test, y_pred, average='weighted')\n",
        "f1 = f1_score(y_test, y_pred, average='weighted')\n",
        "\n",
        "print('precision Bow Score = {0}'.format(pres))\n",
        "print('recall Bow Score = {0}'.format(recall))\n",
        "print('F1 Bow Score = {0}'.format(f1))\n"
      ],
      "metadata": {
        "colab": {
          "base_uri": "https://localhost:8080/"
        },
        "id": "UHlkKyquzZt3",
        "outputId": "6490972d-9bea-43f5-e189-6730e349f622"
      },
      "execution_count": null,
      "outputs": [
        {
          "output_type": "stream",
          "name": "stdout",
          "text": [
            "precision Bow Score = 0.7906572487025652\n",
            "recall Bow Score = 0.792507204610951\n",
            "F1 Bow Score = 0.7814049884917302\n"
          ]
        }
      ]
    },
    {
      "cell_type": "markdown",
      "source": [
        "**Предобработка**"
      ],
      "metadata": {
        "id": "hJKWyT4H-C9y"
      }
    },
    {
      "cell_type": "code",
      "source": [
        "from nltk.stem import WordNetLemmatizer\n",
        "\n",
        "lemmatizer = WordNetLemmatizer()\n",
        "def lemmatize_words(text):\n",
        "  return \" \".join([lemmatizer.lemmatize(word) for word in text.split()])"
      ],
      "metadata": {
        "id": "rlmrRbZ84-pT"
      },
      "execution_count": null,
      "outputs": []
    },
    {
      "cell_type": "code",
      "source": [
        "import nltk\n",
        "nltk.download('stopwords')\n",
        "nltk.download('wordnet')"
      ],
      "metadata": {
        "colab": {
          "base_uri": "https://localhost:8080/"
        },
        "id": "DGKJU5r-A693",
        "outputId": "fb6deb1c-6f42-4690-8a83-3aa98480e731"
      },
      "execution_count": null,
      "outputs": [
        {
          "output_type": "stream",
          "name": "stderr",
          "text": [
            "[nltk_data] Downloading package stopwords to /root/nltk_data...\n",
            "[nltk_data]   Unzipping corpora/stopwords.zip.\n",
            "[nltk_data] Downloading package wordnet to /root/nltk_data...\n"
          ]
        },
        {
          "output_type": "execute_result",
          "data": {
            "text/plain": [
              "True"
            ]
          },
          "metadata": {},
          "execution_count": 16
        }
      ]
    },
    {
      "cell_type": "code",
      "source": [
        "from nltk.corpus import stopwords\n",
        "\n",
        "Stopwords = set(stopwords.words('russian'))\n",
        "def remove_stopwords(text):\n",
        "  return \" \".join([word for word in str(text).split() if word not in Stopwords])"
      ],
      "metadata": {
        "id": "sGZn2UF3_ZWI"
      },
      "execution_count": null,
      "outputs": []
    },
    {
      "cell_type": "code",
      "source": [
        "import string\n",
        "\n",
        "PUNCT_TO_REMOVE = string.punctuation\n",
        "def remove_punctuation(text):\n",
        "  return text.translate(str.maketrans('','', PUNCT_TO_REMOVE))"
      ],
      "metadata": {
        "id": "jMB9qo2WBD7L"
      },
      "execution_count": null,
      "outputs": []
    },
    {
      "cell_type": "code",
      "source": [
        "x_train, x_test, y_train, y_test = train_test_split(data.drop(['author', 'id'], axis=1), data.author, test_size=0.2, random_state=42)"
      ],
      "metadata": {
        "id": "zfRlx4ktBEGU"
      },
      "execution_count": null,
      "outputs": []
    },
    {
      "cell_type": "code",
      "source": [
        "train_preprocessed = {'text':[], 'author':[]}\n",
        "train_preprocessed = pd.DataFrame(train_preprocessed)\n",
        "\n",
        "for index, row in x_train.iterrows():\n",
        "  new_row = pd.DataFrame({'text': lemmatize_words(remove_stopwords(remove_punctuation(row['text']))), 'author': y_train[index]}, index=[index])\n",
        "  train_preprocessed = pd.concat([train_preprocessed, new_row]).reset_index(drop=True)\n",
        "\n",
        "test_preprocessed = {'text':[], 'author':[]}\n",
        "test_preprocessed = pd.DataFrame(test_preprocessed)\n",
        "\n",
        "for index, row in x_test.iterrows():\n",
        "  new_row = pd.DataFrame({'text':lemmatize_words(remove_stopwords(remove_punctuation(row['text']))), 'author': y_test[index]}, index=[index])\n",
        "  test_preprocessed = pd.concat([test_preprocessed, new_row]).reset_index(drop=True)"
      ],
      "metadata": {
        "id": "SOwe--dFCSwe"
      },
      "execution_count": null,
      "outputs": []
    },
    {
      "cell_type": "code",
      "source": [
        "x_train = train_preprocessed.drop(['author'], axis=1)\n",
        "y_train = train_preprocessed.author\n",
        "x_test = test_preprocessed.drop(['author'], axis=1)\n",
        "y_test = test_preprocessed.author"
      ],
      "metadata": {
        "id": "GsQHaxr9mWat"
      },
      "execution_count": null,
      "outputs": []
    },
    {
      "cell_type": "markdown",
      "source": [
        "создает матрицу, в которой каждое уникальное слово представлено столбцом матрицы, а каждый образец текста из документа - строкой в матрице. Значение каждой ячейки - количество слов в данном конкретном примере текста."
      ],
      "metadata": {
        "id": "PrIRsqrNg8U5"
      }
    },
    {
      "cell_type": "code",
      "source": [
        "vectarizer = CountVectorizer()\n",
        "vectarizer.fit(x_train.append(x_test).text)\n",
        "\n",
        "x_train = vectarizer.transform(x_train.text)\n",
        "x_test = vectarizer.transform(x_test.text)\n",
        "y_train = y_train.values\n",
        "y_test = y_test.values"
      ],
      "metadata": {
        "colab": {
          "base_uri": "https://localhost:8080/"
        },
        "id": "Tr7ns9cgmwfj",
        "outputId": "ba7f8ecd-9b8d-4dc4-99f3-55347e3e57f6"
      },
      "execution_count": null,
      "outputs": [
        {
          "output_type": "stream",
          "name": "stderr",
          "text": [
            "<ipython-input-22-7ba3b58b513f>:2: FutureWarning: The frame.append method is deprecated and will be removed from pandas in a future version. Use pandas.concat instead.\n",
            "  vectarizer.fit(x_train.append(x_test).text)\n"
          ]
        }
      ]
    },
    {
      "cell_type": "code",
      "source": [
        "classifier = LogisticRegression()\n",
        "classifier.fit(x_train, y_train)"
      ],
      "metadata": {
        "colab": {
          "base_uri": "https://localhost:8080/",
          "height": 213
        },
        "id": "ylYiLxEem_W3",
        "outputId": "f5c9a5e3-cd7f-4140-cf32-3a06103e8a17"
      },
      "execution_count": null,
      "outputs": [
        {
          "output_type": "stream",
          "name": "stderr",
          "text": [
            "/usr/local/lib/python3.10/dist-packages/sklearn/linear_model/_logistic.py:458: ConvergenceWarning: lbfgs failed to converge (status=1):\n",
            "STOP: TOTAL NO. of ITERATIONS REACHED LIMIT.\n",
            "\n",
            "Increase the number of iterations (max_iter) or scale the data as shown in:\n",
            "    https://scikit-learn.org/stable/modules/preprocessing.html\n",
            "Please also refer to the documentation for alternative solver options:\n",
            "    https://scikit-learn.org/stable/modules/linear_model.html#logistic-regression\n",
            "  n_iter_i = _check_optimize_result(\n"
          ]
        },
        {
          "output_type": "execute_result",
          "data": {
            "text/plain": [
              "LogisticRegression()"
            ],
            "text/html": [
              "<style>#sk-container-id-5 {color: black;background-color: white;}#sk-container-id-5 pre{padding: 0;}#sk-container-id-5 div.sk-toggleable {background-color: white;}#sk-container-id-5 label.sk-toggleable__label {cursor: pointer;display: block;width: 100%;margin-bottom: 0;padding: 0.3em;box-sizing: border-box;text-align: center;}#sk-container-id-5 label.sk-toggleable__label-arrow:before {content: \"▸\";float: left;margin-right: 0.25em;color: #696969;}#sk-container-id-5 label.sk-toggleable__label-arrow:hover:before {color: black;}#sk-container-id-5 div.sk-estimator:hover label.sk-toggleable__label-arrow:before {color: black;}#sk-container-id-5 div.sk-toggleable__content {max-height: 0;max-width: 0;overflow: hidden;text-align: left;background-color: #f0f8ff;}#sk-container-id-5 div.sk-toggleable__content pre {margin: 0.2em;color: black;border-radius: 0.25em;background-color: #f0f8ff;}#sk-container-id-5 input.sk-toggleable__control:checked~div.sk-toggleable__content {max-height: 200px;max-width: 100%;overflow: auto;}#sk-container-id-5 input.sk-toggleable__control:checked~label.sk-toggleable__label-arrow:before {content: \"▾\";}#sk-container-id-5 div.sk-estimator input.sk-toggleable__control:checked~label.sk-toggleable__label {background-color: #d4ebff;}#sk-container-id-5 div.sk-label input.sk-toggleable__control:checked~label.sk-toggleable__label {background-color: #d4ebff;}#sk-container-id-5 input.sk-hidden--visually {border: 0;clip: rect(1px 1px 1px 1px);clip: rect(1px, 1px, 1px, 1px);height: 1px;margin: -1px;overflow: hidden;padding: 0;position: absolute;width: 1px;}#sk-container-id-5 div.sk-estimator {font-family: monospace;background-color: #f0f8ff;border: 1px dotted black;border-radius: 0.25em;box-sizing: border-box;margin-bottom: 0.5em;}#sk-container-id-5 div.sk-estimator:hover {background-color: #d4ebff;}#sk-container-id-5 div.sk-parallel-item::after {content: \"\";width: 100%;border-bottom: 1px solid gray;flex-grow: 1;}#sk-container-id-5 div.sk-label:hover label.sk-toggleable__label {background-color: #d4ebff;}#sk-container-id-5 div.sk-serial::before {content: \"\";position: absolute;border-left: 1px solid gray;box-sizing: border-box;top: 0;bottom: 0;left: 50%;z-index: 0;}#sk-container-id-5 div.sk-serial {display: flex;flex-direction: column;align-items: center;background-color: white;padding-right: 0.2em;padding-left: 0.2em;position: relative;}#sk-container-id-5 div.sk-item {position: relative;z-index: 1;}#sk-container-id-5 div.sk-parallel {display: flex;align-items: stretch;justify-content: center;background-color: white;position: relative;}#sk-container-id-5 div.sk-item::before, #sk-container-id-5 div.sk-parallel-item::before {content: \"\";position: absolute;border-left: 1px solid gray;box-sizing: border-box;top: 0;bottom: 0;left: 50%;z-index: -1;}#sk-container-id-5 div.sk-parallel-item {display: flex;flex-direction: column;z-index: 1;position: relative;background-color: white;}#sk-container-id-5 div.sk-parallel-item:first-child::after {align-self: flex-end;width: 50%;}#sk-container-id-5 div.sk-parallel-item:last-child::after {align-self: flex-start;width: 50%;}#sk-container-id-5 div.sk-parallel-item:only-child::after {width: 0;}#sk-container-id-5 div.sk-dashed-wrapped {border: 1px dashed gray;margin: 0 0.4em 0.5em 0.4em;box-sizing: border-box;padding-bottom: 0.4em;background-color: white;}#sk-container-id-5 div.sk-label label {font-family: monospace;font-weight: bold;display: inline-block;line-height: 1.2em;}#sk-container-id-5 div.sk-label-container {text-align: center;}#sk-container-id-5 div.sk-container {/* jupyter's `normalize.less` sets `[hidden] { display: none; }` but bootstrap.min.css set `[hidden] { display: none !important; }` so we also need the `!important` here to be able to override the default hidden behavior on the sphinx rendered scikit-learn.org. See: https://github.com/scikit-learn/scikit-learn/issues/21755 */display: inline-block !important;position: relative;}#sk-container-id-5 div.sk-text-repr-fallback {display: none;}</style><div id=\"sk-container-id-5\" class=\"sk-top-container\"><div class=\"sk-text-repr-fallback\"><pre>LogisticRegression()</pre><b>In a Jupyter environment, please rerun this cell to show the HTML representation or trust the notebook. <br />On GitHub, the HTML representation is unable to render, please try loading this page with nbviewer.org.</b></div><div class=\"sk-container\" hidden><div class=\"sk-item\"><div class=\"sk-estimator sk-toggleable\"><input class=\"sk-toggleable__control sk-hidden--visually\" id=\"sk-estimator-id-5\" type=\"checkbox\" checked><label for=\"sk-estimator-id-5\" class=\"sk-toggleable__label sk-toggleable__label-arrow\">LogisticRegression</label><div class=\"sk-toggleable__content\"><pre>LogisticRegression()</pre></div></div></div></div></div>"
            ]
          },
          "metadata": {},
          "execution_count": 23
        }
      ]
    },
    {
      "cell_type": "code",
      "source": [
        "y_pred = classifier.predict(x_test)\n",
        "\n",
        "pres = precision_score(y_test, y_pred, average='weighted')\n",
        "recall = recall_score(y_test, y_pred, average='weighted')\n",
        "f1 = f1_score(y_test, y_pred, average='weighted')\n",
        "\n",
        "print('precision Bow Score = {0}'.format(pres))\n",
        "print('recall Bow Score = {0}'.format(recall))\n",
        "print('F1 Bow Score = {0}'.format(f1))"
      ],
      "metadata": {
        "colab": {
          "base_uri": "https://localhost:8080/"
        },
        "id": "IPcueRjcnCCs",
        "outputId": "a39ce478-0d2f-4bd2-9831-8fcfcd9a5c11"
      },
      "execution_count": null,
      "outputs": [
        {
          "output_type": "stream",
          "name": "stdout",
          "text": [
            "precision Bow Score = 0.8109539194988599\n",
            "recall Bow Score = 0.8126801152737753\n",
            "F1 Bow Score = 0.7987303714087575\n"
          ]
        }
      ]
    },
    {
      "cell_type": "code",
      "source": [],
      "metadata": {
        "id": "6A0l-E80i3mt"
      },
      "execution_count": null,
      "outputs": []
    }
  ]
}