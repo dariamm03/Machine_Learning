{
  "nbformat": 4,
  "nbformat_minor": 0,
  "metadata": {
    "colab": {
      "provenance": [],
      "authorship_tag": "ABX9TyN1SkRkdA8ZpgW8rkFjfxw7",
      "include_colab_link": true
    },
    "kernelspec": {
      "name": "python3",
      "display_name": "Python 3"
    },
    "language_info": {
      "name": "python"
    }
  },
  "cells": [
    {
      "cell_type": "markdown",
      "metadata": {
        "id": "view-in-github",
        "colab_type": "text"
      },
      "source": [
        "<a href=\"https://colab.research.google.com/github/dariamm03/Machine_Learning/blob/main/MachineLearning10.ipynb\" target=\"_parent\"><img src=\"https://colab.research.google.com/assets/colab-badge.svg\" alt=\"Open In Colab\"/></a>"
      ]
    },
    {
      "cell_type": "markdown",
      "source": [
        "Задание:\n",
        "1) Решить задачу с идентификацией краж в магазинах или альтернативные варианты следующими методами: k-NN, SVM, Naive Bayes, деревья решений и провести оценку качества.  \n",
        "2) Выполнить кроссвалидацию и сравнить качество получаемых результатов с результатами, полученными на предыдущем этапе.  \n",
        "3) Построить композицию (ансамбль) моделей и сравнить качество модели с предыдущими результатами."
      ],
      "metadata": {
        "id": "tCwierlv4pjy"
      }
    },
    {
      "cell_type": "code",
      "source": [
        "from sklearn.model_selection import train_test_split\n",
        "from sklearn.metrics import roc_auc_score, accuracy_score\n",
        "from sklearn.svm import SVC\n",
        "from sklearn.neighbors import KNeighborsClassifier\n",
        "from sklearn.naive_bayes import GaussianNB\n",
        "from sklearn.tree import DecisionTreeClassifier\n",
        "import matplotlib.pyplot as plt\n",
        "from sklearn.metrics import roc_curve\n",
        "from sklearn.model_selection import cross_val_score\n",
        "from sklearn.ensemble import StackingClassifier\n",
        "from sklearn.linear_model import LogisticRegression"
      ],
      "metadata": {
        "id": "z_m_nTGFfhMb"
      },
      "execution_count": null,
      "outputs": []
    },
    {
      "cell_type": "code",
      "execution_count": null,
      "metadata": {
        "id": "JKyoXwDC_T5_",
        "colab": {
          "base_uri": "https://localhost:8080/",
          "height": 320
        },
        "outputId": "0e48033f-0d76-4c83-8929-12c6a8690b80"
      },
      "outputs": [
        {
          "output_type": "execute_result",
          "data": {
            "text/plain": [
              "   trustLevel  totalScanTimeInSeconds  grandTotal  lineItemVoids  \\\n",
              "0           5                    1054       54.70              7   \n",
              "1           3                     108       27.36              5   \n",
              "2           3                    1516       62.16              3   \n",
              "3           6                    1791       92.31              8   \n",
              "4           5                     430       81.53              3   \n",
              "5           1                     770       11.09             11   \n",
              "6           3                     294       55.63              2   \n",
              "7           2                    1545       22.80              0   \n",
              "\n",
              "   scansWithoutRegistration  quantityModifications  scannedLineItemsPerSecond  \\\n",
              "0                         0                      3                   0.027514   \n",
              "1                         2                      4                   0.129630   \n",
              "2                        10                      5                   0.008575   \n",
              "3                         4                      4                   0.016192   \n",
              "4                         7                      2                   0.062791   \n",
              "5                         5                      2                   0.033766   \n",
              "6                         7                      1                   0.037415   \n",
              "7                         8                      4                   0.006472   \n",
              "\n",
              "   valuePerSecond  lineItemVoidsPerPosition  fraud  \n",
              "0        0.051898                  0.241379      0  \n",
              "1        0.253333                  0.357143      0  \n",
              "2        0.041003                  0.230769      0  \n",
              "3        0.051541                  0.275862      0  \n",
              "4        0.189605                  0.111111      0  \n",
              "5        0.014403                  0.423077      1  \n",
              "6        0.189218                  0.181818      0  \n",
              "7        0.014757                  0.000000      0  "
            ],
            "text/html": [
              "\n",
              "  <div id=\"df-c6aae594-49e9-4c67-8e09-cb057695de7f\" class=\"colab-df-container\">\n",
              "    <div>\n",
              "<style scoped>\n",
              "    .dataframe tbody tr th:only-of-type {\n",
              "        vertical-align: middle;\n",
              "    }\n",
              "\n",
              "    .dataframe tbody tr th {\n",
              "        vertical-align: top;\n",
              "    }\n",
              "\n",
              "    .dataframe thead th {\n",
              "        text-align: right;\n",
              "    }\n",
              "</style>\n",
              "<table border=\"1\" class=\"dataframe\">\n",
              "  <thead>\n",
              "    <tr style=\"text-align: right;\">\n",
              "      <th></th>\n",
              "      <th>trustLevel</th>\n",
              "      <th>totalScanTimeInSeconds</th>\n",
              "      <th>grandTotal</th>\n",
              "      <th>lineItemVoids</th>\n",
              "      <th>scansWithoutRegistration</th>\n",
              "      <th>quantityModifications</th>\n",
              "      <th>scannedLineItemsPerSecond</th>\n",
              "      <th>valuePerSecond</th>\n",
              "      <th>lineItemVoidsPerPosition</th>\n",
              "      <th>fraud</th>\n",
              "    </tr>\n",
              "  </thead>\n",
              "  <tbody>\n",
              "    <tr>\n",
              "      <th>0</th>\n",
              "      <td>5</td>\n",
              "      <td>1054</td>\n",
              "      <td>54.70</td>\n",
              "      <td>7</td>\n",
              "      <td>0</td>\n",
              "      <td>3</td>\n",
              "      <td>0.027514</td>\n",
              "      <td>0.051898</td>\n",
              "      <td>0.241379</td>\n",
              "      <td>0</td>\n",
              "    </tr>\n",
              "    <tr>\n",
              "      <th>1</th>\n",
              "      <td>3</td>\n",
              "      <td>108</td>\n",
              "      <td>27.36</td>\n",
              "      <td>5</td>\n",
              "      <td>2</td>\n",
              "      <td>4</td>\n",
              "      <td>0.129630</td>\n",
              "      <td>0.253333</td>\n",
              "      <td>0.357143</td>\n",
              "      <td>0</td>\n",
              "    </tr>\n",
              "    <tr>\n",
              "      <th>2</th>\n",
              "      <td>3</td>\n",
              "      <td>1516</td>\n",
              "      <td>62.16</td>\n",
              "      <td>3</td>\n",
              "      <td>10</td>\n",
              "      <td>5</td>\n",
              "      <td>0.008575</td>\n",
              "      <td>0.041003</td>\n",
              "      <td>0.230769</td>\n",
              "      <td>0</td>\n",
              "    </tr>\n",
              "    <tr>\n",
              "      <th>3</th>\n",
              "      <td>6</td>\n",
              "      <td>1791</td>\n",
              "      <td>92.31</td>\n",
              "      <td>8</td>\n",
              "      <td>4</td>\n",
              "      <td>4</td>\n",
              "      <td>0.016192</td>\n",
              "      <td>0.051541</td>\n",
              "      <td>0.275862</td>\n",
              "      <td>0</td>\n",
              "    </tr>\n",
              "    <tr>\n",
              "      <th>4</th>\n",
              "      <td>5</td>\n",
              "      <td>430</td>\n",
              "      <td>81.53</td>\n",
              "      <td>3</td>\n",
              "      <td>7</td>\n",
              "      <td>2</td>\n",
              "      <td>0.062791</td>\n",
              "      <td>0.189605</td>\n",
              "      <td>0.111111</td>\n",
              "      <td>0</td>\n",
              "    </tr>\n",
              "    <tr>\n",
              "      <th>5</th>\n",
              "      <td>1</td>\n",
              "      <td>770</td>\n",
              "      <td>11.09</td>\n",
              "      <td>11</td>\n",
              "      <td>5</td>\n",
              "      <td>2</td>\n",
              "      <td>0.033766</td>\n",
              "      <td>0.014403</td>\n",
              "      <td>0.423077</td>\n",
              "      <td>1</td>\n",
              "    </tr>\n",
              "    <tr>\n",
              "      <th>6</th>\n",
              "      <td>3</td>\n",
              "      <td>294</td>\n",
              "      <td>55.63</td>\n",
              "      <td>2</td>\n",
              "      <td>7</td>\n",
              "      <td>1</td>\n",
              "      <td>0.037415</td>\n",
              "      <td>0.189218</td>\n",
              "      <td>0.181818</td>\n",
              "      <td>0</td>\n",
              "    </tr>\n",
              "    <tr>\n",
              "      <th>7</th>\n",
              "      <td>2</td>\n",
              "      <td>1545</td>\n",
              "      <td>22.80</td>\n",
              "      <td>0</td>\n",
              "      <td>8</td>\n",
              "      <td>4</td>\n",
              "      <td>0.006472</td>\n",
              "      <td>0.014757</td>\n",
              "      <td>0.000000</td>\n",
              "      <td>0</td>\n",
              "    </tr>\n",
              "  </tbody>\n",
              "</table>\n",
              "</div>\n",
              "    <div class=\"colab-df-buttons\">\n",
              "\n",
              "  <div class=\"colab-df-container\">\n",
              "    <button class=\"colab-df-convert\" onclick=\"convertToInteractive('df-c6aae594-49e9-4c67-8e09-cb057695de7f')\"\n",
              "            title=\"Convert this dataframe to an interactive table.\"\n",
              "            style=\"display:none;\">\n",
              "\n",
              "  <svg xmlns=\"http://www.w3.org/2000/svg\" height=\"24px\" viewBox=\"0 -960 960 960\">\n",
              "    <path d=\"M120-120v-720h720v720H120Zm60-500h600v-160H180v160Zm220 220h160v-160H400v160Zm0 220h160v-160H400v160ZM180-400h160v-160H180v160Zm440 0h160v-160H620v160ZM180-180h160v-160H180v160Zm440 0h160v-160H620v160Z\"/>\n",
              "  </svg>\n",
              "    </button>\n",
              "\n",
              "  <style>\n",
              "    .colab-df-container {\n",
              "      display:flex;\n",
              "      gap: 12px;\n",
              "    }\n",
              "\n",
              "    .colab-df-convert {\n",
              "      background-color: #E8F0FE;\n",
              "      border: none;\n",
              "      border-radius: 50%;\n",
              "      cursor: pointer;\n",
              "      display: none;\n",
              "      fill: #1967D2;\n",
              "      height: 32px;\n",
              "      padding: 0 0 0 0;\n",
              "      width: 32px;\n",
              "    }\n",
              "\n",
              "    .colab-df-convert:hover {\n",
              "      background-color: #E2EBFA;\n",
              "      box-shadow: 0px 1px 2px rgba(60, 64, 67, 0.3), 0px 1px 3px 1px rgba(60, 64, 67, 0.15);\n",
              "      fill: #174EA6;\n",
              "    }\n",
              "\n",
              "    .colab-df-buttons div {\n",
              "      margin-bottom: 4px;\n",
              "    }\n",
              "\n",
              "    [theme=dark] .colab-df-convert {\n",
              "      background-color: #3B4455;\n",
              "      fill: #D2E3FC;\n",
              "    }\n",
              "\n",
              "    [theme=dark] .colab-df-convert:hover {\n",
              "      background-color: #434B5C;\n",
              "      box-shadow: 0px 1px 3px 1px rgba(0, 0, 0, 0.15);\n",
              "      filter: drop-shadow(0px 1px 2px rgba(0, 0, 0, 0.3));\n",
              "      fill: #FFFFFF;\n",
              "    }\n",
              "  </style>\n",
              "\n",
              "    <script>\n",
              "      const buttonEl =\n",
              "        document.querySelector('#df-c6aae594-49e9-4c67-8e09-cb057695de7f button.colab-df-convert');\n",
              "      buttonEl.style.display =\n",
              "        google.colab.kernel.accessAllowed ? 'block' : 'none';\n",
              "\n",
              "      async function convertToInteractive(key) {\n",
              "        const element = document.querySelector('#df-c6aae594-49e9-4c67-8e09-cb057695de7f');\n",
              "        const dataTable =\n",
              "          await google.colab.kernel.invokeFunction('convertToInteractive',\n",
              "                                                    [key], {});\n",
              "        if (!dataTable) return;\n",
              "\n",
              "        const docLinkHtml = 'Like what you see? Visit the ' +\n",
              "          '<a target=\"_blank\" href=https://colab.research.google.com/notebooks/data_table.ipynb>data table notebook</a>'\n",
              "          + ' to learn more about interactive tables.';\n",
              "        element.innerHTML = '';\n",
              "        dataTable['output_type'] = 'display_data';\n",
              "        await google.colab.output.renderOutput(dataTable, element);\n",
              "        const docLink = document.createElement('div');\n",
              "        docLink.innerHTML = docLinkHtml;\n",
              "        element.appendChild(docLink);\n",
              "      }\n",
              "    </script>\n",
              "  </div>\n",
              "\n",
              "\n",
              "<div id=\"df-7cd0f8cf-e828-4e08-a9bb-cc9c93c9b277\">\n",
              "  <button class=\"colab-df-quickchart\" onclick=\"quickchart('df-7cd0f8cf-e828-4e08-a9bb-cc9c93c9b277')\"\n",
              "            title=\"Suggest charts\"\n",
              "            style=\"display:none;\">\n",
              "\n",
              "<svg xmlns=\"http://www.w3.org/2000/svg\" height=\"24px\"viewBox=\"0 0 24 24\"\n",
              "     width=\"24px\">\n",
              "    <g>\n",
              "        <path d=\"M19 3H5c-1.1 0-2 .9-2 2v14c0 1.1.9 2 2 2h14c1.1 0 2-.9 2-2V5c0-1.1-.9-2-2-2zM9 17H7v-7h2v7zm4 0h-2V7h2v10zm4 0h-2v-4h2v4z\"/>\n",
              "    </g>\n",
              "</svg>\n",
              "  </button>\n",
              "\n",
              "<style>\n",
              "  .colab-df-quickchart {\n",
              "      --bg-color: #E8F0FE;\n",
              "      --fill-color: #1967D2;\n",
              "      --hover-bg-color: #E2EBFA;\n",
              "      --hover-fill-color: #174EA6;\n",
              "      --disabled-fill-color: #AAA;\n",
              "      --disabled-bg-color: #DDD;\n",
              "  }\n",
              "\n",
              "  [theme=dark] .colab-df-quickchart {\n",
              "      --bg-color: #3B4455;\n",
              "      --fill-color: #D2E3FC;\n",
              "      --hover-bg-color: #434B5C;\n",
              "      --hover-fill-color: #FFFFFF;\n",
              "      --disabled-bg-color: #3B4455;\n",
              "      --disabled-fill-color: #666;\n",
              "  }\n",
              "\n",
              "  .colab-df-quickchart {\n",
              "    background-color: var(--bg-color);\n",
              "    border: none;\n",
              "    border-radius: 50%;\n",
              "    cursor: pointer;\n",
              "    display: none;\n",
              "    fill: var(--fill-color);\n",
              "    height: 32px;\n",
              "    padding: 0;\n",
              "    width: 32px;\n",
              "  }\n",
              "\n",
              "  .colab-df-quickchart:hover {\n",
              "    background-color: var(--hover-bg-color);\n",
              "    box-shadow: 0 1px 2px rgba(60, 64, 67, 0.3), 0 1px 3px 1px rgba(60, 64, 67, 0.15);\n",
              "    fill: var(--button-hover-fill-color);\n",
              "  }\n",
              "\n",
              "  .colab-df-quickchart-complete:disabled,\n",
              "  .colab-df-quickchart-complete:disabled:hover {\n",
              "    background-color: var(--disabled-bg-color);\n",
              "    fill: var(--disabled-fill-color);\n",
              "    box-shadow: none;\n",
              "  }\n",
              "\n",
              "  .colab-df-spinner {\n",
              "    border: 2px solid var(--fill-color);\n",
              "    border-color: transparent;\n",
              "    border-bottom-color: var(--fill-color);\n",
              "    animation:\n",
              "      spin 1s steps(1) infinite;\n",
              "  }\n",
              "\n",
              "  @keyframes spin {\n",
              "    0% {\n",
              "      border-color: transparent;\n",
              "      border-bottom-color: var(--fill-color);\n",
              "      border-left-color: var(--fill-color);\n",
              "    }\n",
              "    20% {\n",
              "      border-color: transparent;\n",
              "      border-left-color: var(--fill-color);\n",
              "      border-top-color: var(--fill-color);\n",
              "    }\n",
              "    30% {\n",
              "      border-color: transparent;\n",
              "      border-left-color: var(--fill-color);\n",
              "      border-top-color: var(--fill-color);\n",
              "      border-right-color: var(--fill-color);\n",
              "    }\n",
              "    40% {\n",
              "      border-color: transparent;\n",
              "      border-right-color: var(--fill-color);\n",
              "      border-top-color: var(--fill-color);\n",
              "    }\n",
              "    60% {\n",
              "      border-color: transparent;\n",
              "      border-right-color: var(--fill-color);\n",
              "    }\n",
              "    80% {\n",
              "      border-color: transparent;\n",
              "      border-right-color: var(--fill-color);\n",
              "      border-bottom-color: var(--fill-color);\n",
              "    }\n",
              "    90% {\n",
              "      border-color: transparent;\n",
              "      border-bottom-color: var(--fill-color);\n",
              "    }\n",
              "  }\n",
              "</style>\n",
              "\n",
              "  <script>\n",
              "    async function quickchart(key) {\n",
              "      const quickchartButtonEl =\n",
              "        document.querySelector('#' + key + ' button');\n",
              "      quickchartButtonEl.disabled = true;  // To prevent multiple clicks.\n",
              "      quickchartButtonEl.classList.add('colab-df-spinner');\n",
              "      try {\n",
              "        const charts = await google.colab.kernel.invokeFunction(\n",
              "            'suggestCharts', [key], {});\n",
              "      } catch (error) {\n",
              "        console.error('Error during call to suggestCharts:', error);\n",
              "      }\n",
              "      quickchartButtonEl.classList.remove('colab-df-spinner');\n",
              "      quickchartButtonEl.classList.add('colab-df-quickchart-complete');\n",
              "    }\n",
              "    (() => {\n",
              "      let quickchartButtonEl =\n",
              "        document.querySelector('#df-7cd0f8cf-e828-4e08-a9bb-cc9c93c9b277 button');\n",
              "      quickchartButtonEl.style.display =\n",
              "        google.colab.kernel.accessAllowed ? 'block' : 'none';\n",
              "    })();\n",
              "  </script>\n",
              "</div>\n",
              "    </div>\n",
              "  </div>\n"
            ]
          },
          "metadata": {},
          "execution_count": 5
        }
      ],
      "source": [
        "import pandas as pd\n",
        "\n",
        "data = pd.read_csv(\"DataSet2_1.csv\", sep='|')\n",
        "data.head(8)"
      ]
    },
    {
      "cell_type": "code",
      "source": [
        "# разбиваем данные на тренировочную и тестовую выборку\n",
        "X = data.drop(columns=['fraud'])\n",
        "y = data['fraud']\n",
        "x_train, x_test, y_train, y_test = train_test_split(X, y, test_size=0.2, shuffle=False)"
      ],
      "metadata": {
        "id": "yvYB2Zg3gJVz"
      },
      "execution_count": null,
      "outputs": []
    },
    {
      "cell_type": "code",
      "source": [
        "svm_model = SVC(probability=True, kernel=\"linear\")\n",
        "svm_model.fit(x_train, y_train)\n",
        "res_svm = svm_model.predict(x_test)\n",
        "auc_svm = roc_auc_score(y_test, res_svm)\n",
        "auc_svm = roc_auc_score(y_test, res_svm)\n",
        "print(\"auc_roc\", auc_svm)"
      ],
      "metadata": {
        "colab": {
          "base_uri": "https://localhost:8080/"
        },
        "id": "_VYSX-7tn5Wi",
        "outputId": "1dba9085-b8a6-4826-8a67-b20f2a07600b"
      },
      "execution_count": null,
      "outputs": [
        {
          "output_type": "stream",
          "name": "stdout",
          "text": [
            "auc_roc 0.7692307692307692\n"
          ]
        }
      ]
    },
    {
      "cell_type": "code",
      "source": [
        "knn_model = KNeighborsClassifier(n_neighbors=3)\n",
        "knn_model.fit(x_train, y_train)\n",
        "res_knn = knn_model.predict(x_test)\n",
        "auc_knn = roc_auc_score(y_test, res_knn)\n",
        "print(\"auc_roc\", auc_knn)"
      ],
      "metadata": {
        "colab": {
          "base_uri": "https://localhost:8080/"
        },
        "id": "EPDuaNPLqVZh",
        "outputId": "ef861672-415a-454c-9c76-7c2aac10a7d1"
      },
      "execution_count": null,
      "outputs": [
        {
          "output_type": "stream",
          "name": "stdout",
          "text": [
            "auc_roc 0.49714285714285716\n"
          ]
        }
      ]
    },
    {
      "cell_type": "code",
      "source": [
        "nb_model = GaussianNB()\n",
        "nb_model.fit(x_train, y_train)\n",
        "res_nb = nb_model.predict(x_test)\n",
        "auc_nb = roc_auc_score(y_test, res_nb)\n",
        "print(\"auc_roc\", auc_nb)"
      ],
      "metadata": {
        "colab": {
          "base_uri": "https://localhost:8080/"
        },
        "id": "2Iq2Hoe3rY7c",
        "outputId": "6b903f27-a947-493a-e7b8-8f910838e01b"
      },
      "execution_count": null,
      "outputs": [
        {
          "output_type": "stream",
          "name": "stdout",
          "text": [
            "auc_roc 0.9185714285714286\n"
          ]
        }
      ]
    },
    {
      "cell_type": "code",
      "source": [
        "dt_model = DecisionTreeClassifier()\n",
        "dt_model.fit(x_train, y_train)\n",
        "res_dt = dt_model.predict(x_test)\n",
        "auc_dt = roc_auc_score(y_test, res_dt)\n",
        "print(\"auc_roc\", auc_dt)"
      ],
      "metadata": {
        "colab": {
          "base_uri": "https://localhost:8080/"
        },
        "id": "lrQuk50csGV1",
        "outputId": "a932b450-0741-4f39-a9b8-ba9571db8093"
      },
      "execution_count": null,
      "outputs": [
        {
          "output_type": "stream",
          "name": "stdout",
          "text": [
            "auc_roc 0.762087912087912\n"
          ]
        }
      ]
    },
    {
      "cell_type": "code",
      "source": [
        "# Вычисление ROC-кривых\n",
        "fpr_svm, tpr_svm, _ = roc_curve(y_test, res_svm)\n",
        "fpr_knn, tpr_knn, _ = roc_curve(y_test, res_knn)\n",
        "fpr_nb, tpr_nb, _ = roc_curve(y_test, res_nb)\n",
        "fpr_dt, tpr_dt, _ = roc_curve(y_test, res_dt)"
      ],
      "metadata": {
        "id": "KMU-qFsIsG1k"
      },
      "execution_count": null,
      "outputs": []
    },
    {
      "cell_type": "code",
      "source": [
        "fig, ax = plt.subplots(figsize=(10,6))\n",
        "ax.plot(fpr_svm, tpr_svm, color='red', linestyle='dashed', label='SVM')\n",
        "ax.plot(fpr_knn, tpr_knn, color='black', linestyle='solid', label='kNN')\n",
        "ax.plot(fpr_nb, tpr_nb, color='blue', linestyle='solid', label='NB')\n",
        "ax.plot(fpr_dt, tpr_dt, color='green', linestyle='solid', label='DT')\n",
        "ax.legend()"
      ],
      "metadata": {
        "colab": {
          "base_uri": "https://localhost:8080/",
          "height": 539
        },
        "id": "Ou8p01s9-1aK",
        "outputId": "47ecfd10-39aa-42af-fe14-c123664e6ce4"
      },
      "execution_count": null,
      "outputs": [
        {
          "output_type": "execute_result",
          "data": {
            "text/plain": [
              "<matplotlib.legend.Legend at 0x78261569b010>"
            ]
          },
          "metadata": {},
          "execution_count": 11
        },
        {
          "output_type": "display_data",
          "data": {
            "text/plain": [
              "<Figure size 1000x600 with 1 Axes>"
            ],
            "image/png": "[encoded data removed]"
          },
          "metadata": {}
        }
      ]
    },
    {
      "cell_type": "markdown",
      "source": [
        "это когда набор данных случайным образом разбивается на группы k раз. Одна из групп используется в качестве тестового набора, а остальные — в качестве обучающего набора. Модель обучается на обучающем наборе и оценивается на тестовом наборе. Затем процесс повторяется до тех пор, пока каждая уникальная группа не будет использоваться в качестве тестового набора."
      ],
      "metadata": {
        "id": "97AkmOcReCw-"
      }
    },
    {
      "cell_type": "code",
      "source": [
        "from sklearn.model_selection import cross_validate\n",
        "import numpy as np"
      ],
      "metadata": {
        "id": "yoZvUlhKGPte"
      },
      "execution_count": null,
      "outputs": []
    },
    {
      "cell_type": "code",
      "source": [
        "svm_model_cv = SVC(probability=True, kernel=\"linear\")\n",
        "svm_cv_scores = cross_val_score(svm_model_cv, X, y, cv=5)\n",
        "print(f'SVM cv_scores mean:{np.mean(svm_cv_scores)}')"
      ],
      "metadata": {
        "colab": {
          "base_uri": "https://localhost:8080/"
        },
        "id": "5dJ9V_O2Gddj",
        "outputId": "896e185a-2381-4312-bd3b-6efdd6ba98be"
      },
      "execution_count": null,
      "outputs": [
        {
          "output_type": "stream",
          "name": "stdout",
          "text": [
            "SVM cv_scores mean:0.9707304964539007\n"
          ]
        }
      ]
    },
    {
      "cell_type": "code",
      "source": [
        "knn_model_cv = KNeighborsClassifier(n_neighbors=3)\n",
        "knn_cv_scores = cross_val_score(knn_model_cv, X, y, cv=5)\n",
        "print(f'kNN cv_scores mean:{np.mean(knn_cv_scores)}')"
      ],
      "metadata": {
        "colab": {
          "base_uri": "https://localhost:8080/"
        },
        "id": "Ct8S2erVdwZB",
        "outputId": "07a2065e-22bd-4b30-9670-3c4066de17fd"
      },
      "execution_count": null,
      "outputs": [
        {
          "output_type": "stream",
          "name": "stdout",
          "text": [
            "kNN cv_scores mean:0.9324156028368794\n"
          ]
        }
      ]
    },
    {
      "cell_type": "code",
      "source": [
        "nb_model_cv = GaussianNB()\n",
        "nb_cv_scores = cross_val_score(nb_model_cv, X, y, cv=5)\n",
        "print(f'Naive Bayes cv_scores mean:{np.mean(nb_cv_scores)}')"
      ],
      "metadata": {
        "colab": {
          "base_uri": "https://localhost:8080/"
        },
        "id": "FrYlpSd75LqK",
        "outputId": "5b2dc37f-1490-407e-e5be-f235ac0dd513"
      },
      "execution_count": null,
      "outputs": [
        {
          "output_type": "stream",
          "name": "stdout",
          "text": [
            "Naive Bayes cv_scores mean:0.8355560283687945\n"
          ]
        }
      ]
    },
    {
      "cell_type": "code",
      "source": [
        "dt_model_cv = DecisionTreeClassifier()\n",
        "dt_cv_scores = cross_val_score(dt_model_cv, X, y, cv=5)\n",
        "print(f'Decision tree cv_scores mean:{np.mean(dt_cv_scores)}')"
      ],
      "metadata": {
        "colab": {
          "base_uri": "https://localhost:8080/"
        },
        "id": "42xOBNCF5MId",
        "outputId": "b5da27c8-4aa1-4f30-d152-41fe25e24a48"
      },
      "execution_count": null,
      "outputs": [
        {
          "output_type": "stream",
          "name": "stdout",
          "text": [
            "Decision tree cv_scores mean:0.9680666666666667\n"
          ]
        }
      ]
    },
    {
      "cell_type": "code",
      "source": [
        "from sklearn.ensemble import VotingClassifier\n",
        "p = VotingClassifier(estimators=[('SVC', SVC(probability=True, kernel=\"linear\")), ('NB', GaussianNB()), ('DT', DecisionTreeClassifier())], voting='soft')\n",
        "p.fit(x_train, y_train)\n",
        "res = p.predict(x_test)\n",
        "print('auc_res', roc_auc_score(y_test, res))"
      ],
      "metadata": {
        "colab": {
          "base_uri": "https://localhost:8080/"
        },
        "id": "qwL8GeIu6zF0",
        "outputId": "143b6d19-3bb5-48b1-bf03-1d90e82ef063"
      },
      "execution_count": null,
      "outputs": [
        {
          "output_type": "stream",
          "name": "stdout",
          "text": [
            "auc_res 0.9173626373626375\n"
          ]
        }
      ]
    },
    {
      "cell_type": "code",
      "source": [
        "fpr_p, tpr_p, _ = roc_curve(y_test, res)\n",
        "\n",
        "fig, ax = plt.subplots(figsize=(10,6))\n",
        "ax.plot(fpr_svm, tpr_svm, color='red', linestyle='solid', label='SVM')\n",
        "ax.plot(fpr_knn, tpr_knn, color='black', linestyle='solid', label='kNN')\n",
        "ax.plot(fpr_nb, tpr_nb, color='blue', linestyle='solid', label='NB')\n",
        "ax.plot(fpr_dt, tpr_dt, color='green', linestyle='solid', label='DT')\n",
        "ax.plot(fpr_p, tpr_p, color='pink', linestyle='solid', label='FCLF')\n",
        "ax.legend()"
      ],
      "metadata": {
        "colab": {
          "base_uri": "https://localhost:8080/",
          "height": 539
        },
        "id": "ZkxLc4DdVRtH",
        "outputId": "46f0b8ce-b3dd-4d6f-d4d0-8713ae98d3b9"
      },
      "execution_count": null,
      "outputs": [
        {
          "output_type": "execute_result",
          "data": {
            "text/plain": [
              "<matplotlib.legend.Legend at 0x7826130213c0>"
            ]
          },
          "metadata": {},
          "execution_count": 22
        },
        {
          "output_type": "display_data",
          "data": {
            "text/plain": [
              "<Figure size 1000x600 with 1 Axes>"
            ],
            "image/png": "[encoded data removed]"
          },
          "metadata": {}
        }
      ]
    },
    {
      "cell_type": "code",
      "source": [
        "from sklearn.ensemble import StackingClassifier\n",
        "\n",
        "estimators = [\n",
        "    ('svm', SVC(probability=True, kernel=\"linear\")),\n",
        "    ('nb', GaussianNB()),\n",
        "    ('dt', DecisionTreeClassifier())\n",
        "]\n",
        "stacking_model = StackingClassifier(estimators=estimators, final_estimator=LogisticRegression())\n",
        "stacking_model.fit(x_train, y_train)\n",
        "res_stacking = stacking_model.predict(x_test)\n",
        "\n",
        "stacking_acc = accuracy_score(y_test, res_stacking)\n",
        "fpr_stacking, tpr_stacking, _ = roc_curve(y_test, res_stacking)\n",
        "\n",
        "print('Доля правильных ответов для ансамбля моделей:', stacking_acc)"
      ],
      "metadata": {
        "colab": {
          "base_uri": "https://localhost:8080/"
        },
        "id": "5DnFxy-h2BiK",
        "outputId": "824d1ff1-b89a-4064-fe84-3dd285dfa88b"
      },
      "execution_count": null,
      "outputs": [
        {
          "output_type": "stream",
          "name": "stdout",
          "text": [
            "Доля правильных ответов для ансамбля моделей: 0.9707446808510638\n"
          ]
        }
      ]
    },
    {
      "cell_type": "code",
      "source": [
        "fig, ax = plt.subplots(figsize=(10,6))\n",
        "ax.plot(fpr_stacking, tpr_stacking, color='green', linestyle='solid')"
      ],
      "metadata": {
        "colab": {
          "base_uri": "https://localhost:8080/",
          "height": 539
        },
        "id": "QjO1zuDpeYUh",
        "outputId": "1cd1531f-0c91-4c34-8615-5f69ec112d30"
      },
      "execution_count": null,
      "outputs": [
        {
          "output_type": "execute_result",
          "data": {
            "text/plain": [
              "[<matplotlib.lines.Line2D at 0x7fb8c4a3d300>]"
            ]
          },
          "metadata": {},
          "execution_count": 8
        },
        {
          "output_type": "display_data",
          "data": {
            "text/plain": [
              "<Figure size 1000x600 with 1 Axes>"
            ],
            "image/png": "[encoded data removed]"
          },
          "metadata": {}
        }
      ]
    }
  ]
}